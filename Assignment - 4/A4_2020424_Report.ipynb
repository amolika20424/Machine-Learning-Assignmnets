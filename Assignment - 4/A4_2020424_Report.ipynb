{
  "nbformat": 4,
  "nbformat_minor": 0,
  "metadata": {
    "colab": {
      "provenance": []
    },
    "kernelspec": {
      "name": "python3",
      "display_name": "Python 3"
    },
    "language_info": {
      "name": "python"
    }
  },
  "cells": [
    {
      "cell_type": "markdown",
      "source": [
        "\n",
        "## Amolika Bansal\n",
        "## 2020424\n",
        "## ML - ASSIGNMENT 4"
      ],
      "metadata": {
        "id": "3YNXgXoR5OVG"
      }
    },
    {
      "cell_type": "markdown",
      "source": [
        "##A1 [P ∥ CO2 & CO3] Clustering (8 points)\n",
        "Load the ‘Human Activity Recognition Using Smartphones Dataset’ 1 and visualize it through UMAP plot.\n",
        "Implement the K-Means and spectral clustering algorithms. Using the elbow curve, find the optimal value\n",
        "of ‘K’ for each algorithm. Evaluate your results using an appropriate evaluation metric and present the test\n",
        "scores for each algorithm."
      ],
      "metadata": {
        "id": "BgM9RLn35Igr"
      }
    },
    {
      "cell_type": "code",
      "execution_count": null,
      "metadata": {
        "id": "MC1X9VPamMIj",
        "colab": {
          "base_uri": "https://localhost:8080/"
        },
        "outputId": "0e854453-76dd-457c-c0ab-bbeb2ee20b1f"
      },
      "outputs": [
        {
          "output_type": "stream",
          "name": "stdout",
          "text": [
            "Looking in indexes: https://pypi.org/simple, https://us-python.pkg.dev/colab-wheels/public/simple/\n",
            "Collecting umap-learn\n",
            "  Downloading umap-learn-0.5.3.tar.gz (88 kB)\n",
            "\u001b[2K     \u001b[90m━━━━━━━━━━━━━━━━━━━━━━━━━━━━━━━━━━━━━━━━\u001b[0m \u001b[32m88.2/88.2 KB\u001b[0m \u001b[31m3.1 MB/s\u001b[0m eta \u001b[36m0:00:00\u001b[0m\n",
            "\u001b[?25h  Preparing metadata (setup.py) ... \u001b[?25l\u001b[?25hdone\n",
            "Requirement already satisfied: numpy>=1.17 in /usr/local/lib/python3.9/dist-packages (from umap-learn) (1.22.4)\n",
            "Requirement already satisfied: scikit-learn>=0.22 in /usr/local/lib/python3.9/dist-packages (from umap-learn) (1.2.2)\n",
            "Requirement already satisfied: scipy>=1.0 in /usr/local/lib/python3.9/dist-packages (from umap-learn) (1.10.1)\n",
            "Requirement already satisfied: numba>=0.49 in /usr/local/lib/python3.9/dist-packages (from umap-learn) (0.56.4)\n",
            "Collecting pynndescent>=0.5\n",
            "  Downloading pynndescent-0.5.8.tar.gz (1.1 MB)\n",
            "\u001b[2K     \u001b[90m━━━━━━━━━━━━━━━━━━━━━━━━━━━━━━━━━━━━━━━━\u001b[0m \u001b[32m1.1/1.1 MB\u001b[0m \u001b[31m23.1 MB/s\u001b[0m eta \u001b[36m0:00:00\u001b[0m\n",
            "\u001b[?25h  Preparing metadata (setup.py) ... \u001b[?25l\u001b[?25hdone\n",
            "Requirement already satisfied: tqdm in /usr/local/lib/python3.9/dist-packages (from umap-learn) (4.65.0)\n",
            "Requirement already satisfied: llvmlite<0.40,>=0.39.0dev0 in /usr/local/lib/python3.9/dist-packages (from numba>=0.49->umap-learn) (0.39.1)\n",
            "Requirement already satisfied: setuptools in /usr/local/lib/python3.9/dist-packages (from numba>=0.49->umap-learn) (67.6.1)\n",
            "Requirement already satisfied: joblib>=0.11 in /usr/local/lib/python3.9/dist-packages (from pynndescent>=0.5->umap-learn) (1.1.1)\n",
            "Requirement already satisfied: threadpoolctl>=2.0.0 in /usr/local/lib/python3.9/dist-packages (from scikit-learn>=0.22->umap-learn) (3.1.0)\n",
            "Building wheels for collected packages: umap-learn, pynndescent\n",
            "  Building wheel for umap-learn (setup.py) ... \u001b[?25l\u001b[?25hdone\n",
            "  Created wheel for umap-learn: filename=umap_learn-0.5.3-py3-none-any.whl size=82830 sha256=a2d7277106c271c38c0c38f7a4c2a4501cb6f9ea4fee975738cb781218b78e02\n",
            "  Stored in directory: /root/.cache/pip/wheels/f4/3e/1c/596d0a463d17475af648688443fa4846fef624d1390339e7e9\n",
            "  Building wheel for pynndescent (setup.py) ... \u001b[?25l\u001b[?25hdone\n",
            "  Created wheel for pynndescent: filename=pynndescent-0.5.8-py3-none-any.whl size=55509 sha256=d59d7ed193b3dce6ef759856dc81360437556ea049bf8318e72cca15ed0ca805\n",
            "  Stored in directory: /root/.cache/pip/wheels/b9/89/cc/59ab91ef5b21dc2ab3635528d7d227f49dfc9169905dcb959d\n",
            "Successfully built umap-learn pynndescent\n",
            "Installing collected packages: pynndescent, umap-learn\n",
            "Successfully installed pynndescent-0.5.8 umap-learn-0.5.3\n"
          ]
        }
      ],
      "source": [
        "# Import necessary libraries\n",
        "import pandas as pd\n",
        "import numpy as np\n",
        "import matplotlib\n",
        "from matplotlib import pyplot as plt\n",
        "import seaborn as sns\n",
        "\n",
        "# Load wine dataset\n",
        "from sklearn.datasets import load_wine\n",
        "wine = load_wine()\n",
        "\n",
        "\n",
        "# Random Forest Classifier\n",
        "from sklearn.ensemble import RandomForestClassifier\n",
        "\n",
        "# Bagging Classifier\n",
        "from sklearn.ensemble import BaggingClassifier\n",
        "\n",
        "# AdaBoost Classifier\n",
        "from sklearn.ensemble import AdaBoostClassifier\n",
        "\n",
        "# Clustering using UMAP and KMeans\n",
        "!pip install umap-learn\n",
        "import umap.umap_ as umap\n",
        "\n",
        "\n",
        "# Clustering using Spectral Clustering\n",
        "from sklearn.cluster import SpectralClustering\n",
        "\n",
        "# Linear regression\n",
        "from sklearn import linear_model\n",
        "from sklearn.metrics import mean_squared_error\n",
        "from sklearn.model_selection import train_test_split"
      ]
    },
    {
      "cell_type": "code",
      "source": [
        "\n",
        "drive.mount('/content/gdrive')"
      ],
      "metadata": {
        "id": "EJL1sGrinOyB",
        "colab": {
          "base_uri": "https://localhost:8080/"
        },
        "outputId": "7c3871cd-9619-4168-9a09-12f671f34faf"
      },
      "execution_count": null,
      "outputs": [
        {
          "output_type": "stream",
          "name": "stdout",
          "text": [
            "Mounted at /content/gdrive\n"
          ]
        }
      ]
    },
    {
      "cell_type": "code",
      "source": [
        "train_path = \"/content/gdrive/MyDrive/Datasets/hum_ac_rec.csv/train/\"\n",
        "test_path = \"/content/gdrive/MyDrive/Datasets/hum_ac_rec.csv/test/\"\n",
        "#Load training data\n",
        "x_train = []\n",
        "with open(train_path+'X_train.txt') as f:\n",
        "for line in f:\n",
        "x_train.append([float(x) for x in line.split()])\n",
        "x_train = np.array(x_train)\n",
        "print(len(x_train))\n",
        "print(x_train)"
      ],
      "metadata": {
        "colab": {
          "base_uri": "https://localhost:8080/"
        },
        "id": "dvyTblL8WB7n",
        "outputId": "5e848e2e-1ea3-451e-ed09-8ff0aa223755"
      },
      "execution_count": null,
      "outputs": [
        {
          "output_type": "stream",
          "name": "stdout",
          "text": [
            "7352\n",
            "[[ 0.28858451 -0.02029417 -0.13290514 ... -0.84124676  0.17994061\n",
            "  -0.05862692]\n",
            " [ 0.27841883 -0.01641057 -0.12352019 ... -0.8447876   0.18028889\n",
            "  -0.05431672]\n",
            " [ 0.27965306 -0.01946716 -0.11346169 ... -0.84893347  0.18063731\n",
            "  -0.04911782]\n",
            " ...\n",
            " [ 0.27338737 -0.01701062 -0.04502183 ... -0.77913261  0.24914484\n",
            "   0.04081119]\n",
            " [ 0.28965416 -0.01884304 -0.15828059 ... -0.78518142  0.24643223\n",
            "   0.02533948]\n",
            " [ 0.35150347 -0.01242312 -0.20386717 ... -0.78326693  0.24680852\n",
            "   0.03669484]]\n"
          ]
        }
      ]
    },
    {
      "cell_type": "code",
      "source": [
        "#Load training labels\n",
        "y_train = []\n",
        "with open(train_path+'y_train.txt') as f:\n",
        "for line in f:\n",
        "y_train.append([float(x) for x in line.split()])\n",
        "y_train = np.array(y_train)\n",
        "print(len(y_train))\n",
        "print(y_train)"
      ],
      "metadata": {
        "colab": {
          "base_uri": "https://localhost:8080/"
        },
        "id": "JwJ2x3Q8w-Tl",
        "outputId": "9960fac6-b370-42f6-e533-879bae735d28"
      },
      "execution_count": null,
      "outputs": [
        {
          "output_type": "stream",
          "name": "stdout",
          "text": [
            "7352\n",
            "[[5.]\n",
            " [5.]\n",
            " [5.]\n",
            " ...\n",
            " [2.]\n",
            " [2.]\n",
            " [2.]]\n"
          ]
        }
      ]
    },
    {
      "cell_type": "code",
      "source": [
        "#Load testing data\n",
        "x_test = []\n",
        "with open(test_path+'X_test.txt') as f:\n",
        "for line in f:\n",
        "x_test.append([float(x) for x in line.split()])\n",
        "x_test = np.array(x_test)\n",
        "print(len(x_test))\n",
        "print(x_test)"
      ],
      "metadata": {
        "colab": {
          "base_uri": "https://localhost:8080/"
        },
        "id": "xnW-D76dxLLY",
        "outputId": "882bca50-b729-4d7d-eeb6-f7a7859d6890"
      },
      "execution_count": null,
      "outputs": [
        {
          "output_type": "stream",
          "name": "stdout",
          "text": [
            "2947\n",
            "[[ 0.25717778 -0.02328523 -0.01465376 ... -0.72000927  0.27680104\n",
            "  -0.0579783 ]\n",
            " [ 0.28602671 -0.01316336 -0.11908252 ... -0.69809082  0.28134292\n",
            "  -0.08389801]\n",
            " [ 0.27548482 -0.02605042 -0.11815167 ... -0.70277146  0.28008303\n",
            "  -0.0793462 ]\n",
            " ...\n",
            " [ 0.34996609  0.03007744 -0.11578796 ... -0.65535684  0.27447878\n",
            "   0.18118355]\n",
            " [ 0.23759383  0.01846687 -0.09649893 ... -0.65971859  0.26478161\n",
            "   0.18756291]\n",
            " [ 0.15362719 -0.01843651 -0.13701846 ... -0.66008023  0.26393619\n",
            "   0.1881034 ]]\n"
          ]
        }
      ]
    },
    {
      "cell_type": "code",
      "source": [
        "#Load testing labels\n",
        "y_test = []\n",
        "with open(test_path+'y_test.txt') as f:\n",
        "for line in f:\n",
        "y_test.append([float(x) for x in line.split()])\n",
        "y_test = np.array(y_test)\n",
        "print(len(y_test))\n",
        "print(y_test)"
      ],
      "metadata": {
        "colab": {
          "base_uri": "https://localhost:8080/"
        },
        "id": "UuHmgL35xKXQ",
        "outputId": "eb077b81-f678-4646-8283-44224217acf2"
      },
      "execution_count": null,
      "outputs": [
        {
          "output_type": "stream",
          "name": "stdout",
          "text": [
            "2947\n",
            "[[5.]\n",
            " [5.]\n",
            " [5.]\n",
            " ...\n",
            " [2.]\n",
            " [2.]\n",
            " [2.]]\n"
          ]
        }
      ]
    },
    {
      "cell_type": "code",
      "source": [
        "print(x_test.shape)"
      ],
      "metadata": {
        "colab": {
          "base_uri": "https://localhost:8080/"
        },
        "id": "VXKj-Kh5ltIq",
        "outputId": "4f75e45d-e4e9-456a-ce99-e76eac3c7043"
      },
      "execution_count": null,
      "outputs": [
        {
          "output_type": "stream",
          "name": "stdout",
          "text": [
            "(2947, 561)\n"
          ]
        }
      ]
    },
    {
      "cell_type": "code",
      "source": [
        "\n",
        "mapper = umap.UMAP().fit_transform(x_train)\n",
        "print(mapper)"
      ],
      "metadata": {
        "colab": {
          "base_uri": "https://localhost:8080/"
        },
        "id": "xIrJp5VauT30",
        "outputId": "35e23777-ba54-4ffd-a5f4-617a761e4945"
      },
      "execution_count": null,
      "outputs": [
        {
          "output_type": "stream",
          "name": "stdout",
          "text": [
            "[[17.121386   5.2388425]\n",
            " [15.527304   2.8773203]\n",
            " [15.82413    3.3814793]\n",
            " ...\n",
            " [ 3.5118349 -1.2465976]\n",
            " [ 3.4660335 -1.2277662]\n",
            " [ 3.4574606 -1.2353011]]\n"
          ]
        }
      ]
    },
    {
      "cell_type": "code",
      "source": [
        "print(np.unique(y_train))"
      ],
      "metadata": {
        "colab": {
          "base_uri": "https://localhost:8080/"
        },
        "id": "Vt9avNCI6SwC",
        "outputId": "068a0a36-dab9-4f89-922d-9915801ab227"
      },
      "execution_count": null,
      "outputs": [
        {
          "output_type": "stream",
          "name": "stdout",
          "text": [
            "[1. 2. 3. 4. 5. 6.]\n"
          ]
        }
      ]
    },
    {
      "cell_type": "code",
      "source": [
        "sns.scatterplot(x=mapper[:, 0], y=mapper[:, 1], hue = y_train.reshape(1,-1)[0])"
      ],
      "metadata": {
        "colab": {
          "base_uri": "https://localhost:8080/",
          "height": 447
        },
        "id": "VR69Wa6vyE5q",
        "outputId": "1cfd4700-7181-440f-b4ad-d2c70871a5a9"
      },
      "execution_count": null,
      "outputs": [
        {
          "output_type": "execute_result",
          "data": {
            "text/plain": [
              "<Axes: >"
            ]
          },
          "metadata": {},
          "execution_count": 11
        },
        {
          "output_type": "display_data",
          "data": {
            "text/plain": [
              "<Figure size 640x480 with 1 Axes>"
            ],
            "image/png": "[encoded data removed]"
          },
          "metadata": {}
        }
      ]
    },
    {
      "cell_type": "code",
      "source": [
        "\n",
        "# This code performs K-means clustering on the training data x_train with a varying number of clusters from 1 to 19. It creates a KMeans object with the specified number of clusters using the KMeans function from the sklearn.cluster module, fits the model to the training data using the fit method, and appends the resulting distortion (sum of squared distances of samples to their closest cluster center) to a list list_of_distortion.\n",
        "from sklearn.cluster import KMeans\n",
        "\n",
        "# Create an empty list to store the distortion values for each number of clusters\n",
        "list_of_distortion = []\n",
        "\n",
        "# Loop through different numbers of clusters\n",
        "for cluster in range(1, 20):\n",
        "  # Create a KMeans object with the current number of clusters and 10 initializations\n",
        "  model = KMeans(n_clusters=cluster, n_init=10)\n",
        "  \n",
        "  # Fit the KMeans model to the training data\n",
        "  model.fit(x_train)\n",
        "  \n",
        "  # Calculate the distortion of the fitted model and append it to the list\n",
        "  list_of_distortion.append(model.inertia_)\n"
      ],
      "metadata": {
        "id": "SWYwGFLRV_0K"
      },
      "execution_count": null,
      "outputs": []
    },
    {
      "cell_type": "code",
      "source": [
        "# Create a line plot with the range of cluster numbers on the x-axis and the corresponding distortion values on the y-axis\n",
        "plt.plot(range(1, 20), list_of_distortion, marker='.')\n",
        "# Add a label to the x-axis\n",
        "plt.xlabel('Number of clusters')\n",
        "# Add a label to the y-axis\n",
        "plt.ylabel('Inertia')\n",
        "# Add a title to the plot\n",
        "plt.title('Elbow method')\n",
        "# Display the plot\n",
        "plt.show()\n"
      ],
      "metadata": {
        "colab": {
          "base_uri": "https://localhost:8080/",
          "height": 472
        },
        "id": "NMoJ8ovkRPur",
        "outputId": "ba127d7f-d08a-4933-9570-7463da21c050"
      },
      "execution_count": null,
      "outputs": [
        {
          "output_type": "display_data",
          "data": {
            "text/plain": [
              "<Figure size 640x480 with 1 Axes>"
            ],
            "image/png": "[encoded data removed]"
          },
          "metadata": {}
        }
      ]
    },
    {
      "cell_type": "code",
      "source": [
        "print(x_train.shape)"
      ],
      "metadata": {
        "colab": {
          "base_uri": "https://localhost:8080/"
        },
        "id": "ICYYmLTOpazo",
        "outputId": "19e87bd6-0d84-45da-a407-0c8928a5102e"
      },
      "execution_count": null,
      "outputs": [
        {
          "output_type": "stream",
          "name": "stdout",
          "text": [
            "(7352, 561)\n"
          ]
        }
      ]
    },
    {
      "cell_type": "code",
      "source": [
        "x_train_red, x_test_red, y_train_red, y_test_red = train_test_split(x_train, y_train, test_size=0.9, stratify=y_train)"
      ],
      "metadata": {
        "id": "asjz3TT7pHpn"
      },
      "execution_count": null,
      "outputs": []
    },
    {
      "cell_type": "code",
      "source": [
        "# Initialize an empty list to store the scores for each number of clusters\n",
        "list_of_score = []\n",
        "\n",
        "# Iterate over a range of cluster numbers from 1 to 19\n",
        "for i in range(1, 20):\n",
        "    \n",
        "    # Initialize a SpectralClustering model with the current number of clusters\n",
        "    model = SpectralClustering(n_clusters=i)\n",
        "    \n",
        "    # Fit the model on the reduced training data and obtain cluster assignments for each observation\n",
        "    pred = model.fit_predict(x_train_red)\n",
        "    \n",
        "    # Initialize a variable to store the average distance between points in each cluster\n",
        "    dist = 0\n",
        "    \n",
        "    # Iterate over each cluster\n",
        "    for j in range(i):\n",
        "        \n",
        "        # Initialize a variable to store the sum of distances between all pairs of points in the current cluster\n",
        "        temp = 0\n",
        "        \n",
        "        # Obtain the points belonging to the current cluster\n",
        "        pts_in_cl_j = x_train_red[pred == j]\n",
        "        \n",
        "        # Iterate over all pairs of points in the current cluster\n",
        "        for pt1 in pts_in_cl_j:\n",
        "            for pt2 in pts_in_cl_j:\n",
        "                \n",
        "                # Compute the Euclidean distance between the two points and add it to temp\n",
        "                temp += np.sqrt(np.sum(np.square(pt1 - pt2)))\n",
        "                \n",
        "        # Compute the average distance between points in the current cluster\n",
        "        if len(pts_in_cl_j) != 0:\n",
        "            temp = temp / 2\n",
        "            temp = temp / len(pts_in_cl_j)\n",
        "            dist += temp\n",
        "            \n",
        "    # Compute the score for the current number of clusters and append it to the list_of_score\n",
        "    list_of_score.append((dist / i))\n"
      ],
      "metadata": {
        "colab": {
          "base_uri": "https://localhost:8080/"
        },
        "id": "uaui-HJkqpa8",
        "outputId": "24180dcd-9be1-4547-bd80-1cf582a22cbe"
      },
      "execution_count": null,
      "outputs": [
        {
          "output_type": "stream",
          "name": "stderr",
          "text": [
            "/usr/local/lib/python3.9/dist-packages/sklearn/manifold/_spectral_embedding.py:393: UserWarning: Exited at iteration 993 with accuracies \n",
            "[1.87079690e-14 1.56028139e-05 9.38372362e-06]\n",
            "not reaching the requested tolerance 1.0952353477478027e-05.\n",
            "Use iteration 958 instead with accuracy \n",
            "7.437336709857012e-06.\n",
            "\n",
            "  _, diffusion_map = lobpcg(\n",
            "/usr/local/lib/python3.9/dist-packages/sklearn/manifold/_spectral_embedding.py:393: UserWarning: Exited postprocessing with accuracies \n",
            "[9.59363022e-15 9.79334520e-06 1.25186649e-05]\n",
            "not reaching the requested tolerance 1.0952353477478027e-05.\n",
            "  _, diffusion_map = lobpcg(\n",
            "/usr/local/lib/python3.9/dist-packages/sklearn/manifold/_spectral_embedding.py:393: UserWarning: Exited at iteration 2000 with accuracies \n",
            "[4.30548312e-15 2.81873669e-06 5.84367079e-06 3.68684467e-05]\n",
            "not reaching the requested tolerance 1.0952353477478027e-05.\n",
            "Use iteration 1664 instead with accuracy \n",
            "6.4849832178121625e-06.\n",
            "\n",
            "  _, diffusion_map = lobpcg(\n",
            "/usr/local/lib/python3.9/dist-packages/sklearn/manifold/_spectral_embedding.py:393: UserWarning: Exited postprocessing with accuracies \n",
            "[6.39625433e-15 3.10756253e-06 5.05666840e-06 1.77758749e-05]\n",
            "not reaching the requested tolerance 1.0952353477478027e-05.\n",
            "  _, diffusion_map = lobpcg(\n",
            "/usr/local/lib/python3.9/dist-packages/sklearn/manifold/_spectral_embedding.py:393: UserWarning: Exited at iteration 2000 with accuracies \n",
            "[4.04480918e-15 2.32932426e-06 3.43339658e-06 3.40847083e-06\n",
            " 3.05327532e-05]\n",
            "not reaching the requested tolerance 1.0952353477478027e-05.\n",
            "Use iteration 1697 instead with accuracy \n",
            "4.91236258242049e-06.\n",
            "\n",
            "  _, diffusion_map = lobpcg(\n",
            "/usr/local/lib/python3.9/dist-packages/sklearn/manifold/_spectral_embedding.py:393: UserWarning: Exited postprocessing with accuracies \n",
            "[6.75986884e-15 2.54005353e-06 3.50835731e-06 3.89982215e-06\n",
            " 1.46140176e-05]\n",
            "not reaching the requested tolerance 1.0952353477478027e-05.\n",
            "  _, diffusion_map = lobpcg(\n",
            "/usr/local/lib/python3.9/dist-packages/sklearn/manifold/_spectral_embedding.py:393: UserWarning: Exited at iteration 1327 with accuracies \n",
            "[9.56311536e-14 3.21509986e-06 4.65158850e-06 1.07025268e-05\n",
            " 4.30872478e-05 7.46102117e-06]\n",
            "not reaching the requested tolerance 1.0952353477478027e-05.\n",
            "Use iteration 1327 instead with accuracy \n",
            "1.1519580707015957e-05.\n",
            "\n",
            "  _, diffusion_map = lobpcg(\n",
            "/usr/local/lib/python3.9/dist-packages/sklearn/manifold/_spectral_embedding.py:393: UserWarning: Exited postprocessing with accuracies \n",
            "[1.73860448e-14 3.20407755e-06 4.65935626e-06 1.07025062e-05\n",
            " 4.30869538e-05 7.46264317e-06]\n",
            "not reaching the requested tolerance 1.0952353477478027e-05.\n",
            "  _, diffusion_map = lobpcg(\n",
            "/usr/local/lib/python3.9/dist-packages/sklearn/manifold/_spectral_embedding.py:393: UserWarning: Exited at iteration 2000 with accuracies \n",
            "[8.02319988e-14 1.63594937e-06 2.44526963e-06 4.56710419e-06\n",
            " 1.49257847e-05 2.81922414e-05 4.06270724e-05]\n",
            "not reaching the requested tolerance 1.0952353477478027e-05.\n",
            "Use iteration 1835 instead with accuracy \n",
            "5.902591950573687e-06.\n",
            "\n",
            "  _, diffusion_map = lobpcg(\n",
            "/usr/local/lib/python3.9/dist-packages/sklearn/manifold/_spectral_embedding.py:393: UserWarning: Exited postprocessing with accuracies \n",
            "[1.83632477e-14 1.50044856e-06 2.88993832e-06 3.99149271e-06\n",
            " 9.84880484e-06 9.86744363e-06 1.34714884e-05]\n",
            "not reaching the requested tolerance 1.0952353477478027e-05.\n",
            "  _, diffusion_map = lobpcg(\n"
          ]
        }
      ]
    },
    {
      "cell_type": "code",
      "source": [
        "plt.plot(range(1,20), list_of_score,marker='.')\n",
        "plt.xlabel('Number of clusters')\n",
        "plt.ylabel('Cost')\n",
        "plt.title('Elbow method')\n",
        "plt.show()"
      ],
      "metadata": {
        "id": "ngyGkhOHWhzT",
        "colab": {
          "base_uri": "https://localhost:8080/",
          "height": 472
        },
        "outputId": "bf40b7bc-3a4b-450e-9e8e-3b08a78dd436"
      },
      "execution_count": null,
      "outputs": [
        {
          "output_type": "display_data",
          "data": {
            "text/plain": [
              "<Figure size 640x480 with 1 Axes>"
            ],
            "image/png": "[encoded data removed]"
          },
          "metadata": {}
        }
      ]
    },
    {
      "cell_type": "code",
      "source": [
        "\n",
        "model = KMeans(n_clusters=2, n_init=10)\n",
        "model.fit(x_train)\n",
        "y_pred = model.predict(x_test)\n",
        "score = silhouette_score(x_test,y_pred)\n",
        "print(\"Silhoutte score for KMeans \"+str(score))"
      ],
      "metadata": {
        "id": "m75y2nRQ8TgA",
        "colab": {
          "base_uri": "https://localhost:8080/"
        },
        "outputId": "37bb755b-5ad6-4a73-d4a2-ec1ebc118b28"
      },
      "execution_count": null,
      "outputs": [
        {
          "output_type": "stream",
          "name": "stdout",
          "text": [
            "Silhoutte score for KMeans 0.47433766358858365\n"
          ]
        }
      ]
    },
    {
      "cell_type": "code",
      "source": [
        "x_train_red, x_test_red, y_train_red, y_test_red = train_test_split(x_train, y_train, test_size=0.1, stratify=y_train)\n",
        "model = SpectralClustering(n_clusters=3)\n",
        "\n",
        "y_pred = model.fit_predict(x_test_red)\n",
        "score = silhouette_score(x_test_red,y_pred)\n",
        "print(\"Silhoutte score for Spectral Clustering \"+str(score))"
      ],
      "metadata": {
        "colab": {
          "base_uri": "https://localhost:8080/"
        },
        "id": "-fAJXYFI5dR4",
        "outputId": "c3adb211-a3f0-4b7c-d8dc-f70fc8c7597a"
      },
      "execution_count": null,
      "outputs": [
        {
          "output_type": "stream",
          "name": "stdout",
          "text": [
            "Silhoutte score for Spectral Clustering 0.18994806844640316\n"
          ]
        }
      ]
    },
    {
      "cell_type": "code",
      "source": [],
      "metadata": {
        "id": "3_eGAuSpooMz"
      },
      "execution_count": null,
      "outputs": []
    },
    {
      "cell_type": "markdown",
      "source": [
        "## A2 [P ∥ CO3 & CO4] Random Forest (10 points)\n",
        "Use the wine dataset2\n",
        "\n",
        "to build one multi-class classifier each using the following techniques.\n",
        "\n",
        "(a) Random forest\n",
        "(b) Decision Tree with Bootstrap Aggregation\n",
        "(c) Decision Tree with AdaBoost\n",
        "Which of the above techniques worked best? Use an appropriate evaluation metric. Explain the inferences of\n",
        "each technique."
      ],
      "metadata": {
        "id": "hENTaJxc4832"
      }
    },
    {
      "cell_type": "code",
      "source": [
        "# Load the wine dataset from scikit-learn's datasets module\n",
        "from sklearn.datasets import load_wine\n",
        "\n",
        "# Get the features and target values of the wine dataset\n",
        "x = load_wine()['data']\n",
        "y = load_wine()['target']\n",
        "\n",
        "# Print the features of the wine dataset\n",
        "print(x)\n",
        "\n",
        "# Print the target labels of the wine dataset\n",
        "print(y)\n"
      ],
      "metadata": {
        "colab": {
          "base_uri": "https://localhost:8080/"
        },
        "id": "ng4oxPExnO9z",
        "outputId": "fb574bdc-b93c-4c84-bfab-9d77858d0301"
      },
      "execution_count": null,
      "outputs": [
        {
          "output_type": "stream",
          "name": "stdout",
          "text": [
            "[[1.423e+01 1.710e+00 2.430e+00 ... 1.040e+00 3.920e+00 1.065e+03]\n",
            " [1.320e+01 1.780e+00 2.140e+00 ... 1.050e+00 3.400e+00 1.050e+03]\n",
            " [1.316e+01 2.360e+00 2.670e+00 ... 1.030e+00 3.170e+00 1.185e+03]\n",
            " ...\n",
            " [1.327e+01 4.280e+00 2.260e+00 ... 5.900e-01 1.560e+00 8.350e+02]\n",
            " [1.317e+01 2.590e+00 2.370e+00 ... 6.000e-01 1.620e+00 8.400e+02]\n",
            " [1.413e+01 4.100e+00 2.740e+00 ... 6.100e-01 1.600e+00 5.600e+02]]\n",
            "[0 0 0 0 0 0 0 0 0 0 0 0 0 0 0 0 0 0 0 0 0 0 0 0 0 0 0 0 0 0 0 0 0 0 0 0 0\n",
            " 0 0 0 0 0 0 0 0 0 0 0 0 0 0 0 0 0 0 0 0 0 0 1 1 1 1 1 1 1 1 1 1 1 1 1 1 1\n",
            " 1 1 1 1 1 1 1 1 1 1 1 1 1 1 1 1 1 1 1 1 1 1 1 1 1 1 1 1 1 1 1 1 1 1 1 1 1\n",
            " 1 1 1 1 1 1 1 1 1 1 1 1 1 1 1 1 1 1 1 2 2 2 2 2 2 2 2 2 2 2 2 2 2 2 2 2 2\n",
            " 2 2 2 2 2 2 2 2 2 2 2 2 2 2 2 2 2 2 2 2 2 2 2 2 2 2 2 2 2 2]\n"
          ]
        }
      ]
    },
    {
      "cell_type": "code",
      "source": [
        "# Print the shape of the input data x to inspect the number of observations and features\n",
        "print(\"Shape of x \" + str(x.shape))\n",
        "\n",
        "# Print the feature names of the wine dataset to identify the features used in the analysis\n",
        "print(\"Feature names\")\n",
        "print(load_wine()['feature_names'])"
      ],
      "metadata": {
        "colab": {
          "base_uri": "https://localhost:8080/"
        },
        "id": "7oXb0Ix4nlpG",
        "outputId": "1de0e4cf-bb5a-4394-89a8-dd72e9def427"
      },
      "execution_count": null,
      "outputs": [
        {
          "output_type": "stream",
          "name": "stdout",
          "text": [
            "Shape of x (178, 13)\n",
            "Feature names\n",
            "['alcohol', 'malic_acid', 'ash', 'alcalinity_of_ash', 'magnesium', 'total_phenols', 'flavanoids', 'nonflavanoid_phenols', 'proanthocyanins', 'color_intensity', 'hue', 'od280/od315_of_diluted_wines', 'proline']\n"
          ]
        }
      ]
    },
    {
      "cell_type": "code",
      "source": [
        "df = pd.DataFrame(x,columns=load_wine()['feature_names'])\n",
        "# creating a dataframe of the feature columns of the dataset\n",
        "df['class']=y\n",
        "# adding a column of class to each dataset\n",
        "print(df)\n",
        "# printing the dataframe"
      ],
      "metadata": {
        "colab": {
          "base_uri": "https://localhost:8080/"
        },
        "id": "iT0k6EAwoC1p",
        "outputId": "2e0b485b-2d1f-4295-97cc-c2df306cb502"
      },
      "execution_count": null,
      "outputs": [
        {
          "output_type": "stream",
          "name": "stdout",
          "text": [
            "     alcohol  malic_acid   ash  alcalinity_of_ash  magnesium  total_phenols  \\\n",
            "0      14.23        1.71  2.43               15.6      127.0           2.80   \n",
            "1      13.20        1.78  2.14               11.2      100.0           2.65   \n",
            "2      13.16        2.36  2.67               18.6      101.0           2.80   \n",
            "3      14.37        1.95  2.50               16.8      113.0           3.85   \n",
            "4      13.24        2.59  2.87               21.0      118.0           2.80   \n",
            "..       ...         ...   ...                ...        ...            ...   \n",
            "173    13.71        5.65  2.45               20.5       95.0           1.68   \n",
            "174    13.40        3.91  2.48               23.0      102.0           1.80   \n",
            "175    13.27        4.28  2.26               20.0      120.0           1.59   \n",
            "176    13.17        2.59  2.37               20.0      120.0           1.65   \n",
            "177    14.13        4.10  2.74               24.5       96.0           2.05   \n",
            "\n",
            "     flavanoids  nonflavanoid_phenols  proanthocyanins  color_intensity   hue  \\\n",
            "0          3.06                  0.28             2.29             5.64  1.04   \n",
            "1          2.76                  0.26             1.28             4.38  1.05   \n",
            "2          3.24                  0.30             2.81             5.68  1.03   \n",
            "3          3.49                  0.24             2.18             7.80  0.86   \n",
            "4          2.69                  0.39             1.82             4.32  1.04   \n",
            "..          ...                   ...              ...              ...   ...   \n",
            "173        0.61                  0.52             1.06             7.70  0.64   \n",
            "174        0.75                  0.43             1.41             7.30  0.70   \n",
            "175        0.69                  0.43             1.35            10.20  0.59   \n",
            "176        0.68                  0.53             1.46             9.30  0.60   \n",
            "177        0.76                  0.56             1.35             9.20  0.61   \n",
            "\n",
            "     od280/od315_of_diluted_wines  proline  class  \n",
            "0                            3.92   1065.0      0  \n",
            "1                            3.40   1050.0      0  \n",
            "2                            3.17   1185.0      0  \n",
            "3                            3.45   1480.0      0  \n",
            "4                            2.93    735.0      0  \n",
            "..                            ...      ...    ...  \n",
            "173                          1.74    740.0      2  \n",
            "174                          1.56    750.0      2  \n",
            "175                          1.56    835.0      2  \n",
            "176                          1.62    840.0      2  \n",
            "177                          1.60    560.0      2  \n",
            "\n",
            "[178 rows x 14 columns]\n"
          ]
        }
      ]
    },
    {
      "cell_type": "code",
      "source": [
        "# Print the first few rows of the DataFrame to inspect the data\n",
        "print(df.head())\n",
        "\n",
        "# Print the length of the DataFrame to get an idea of the number of observations in the data\n",
        "print(\"Length of data \" + str(len(df)))\n",
        "\n",
        "# Print information about the DataFrame, such as column names and data types, to further inspect the data\n",
        "print(df.info())\n",
        "\n"
      ],
      "metadata": {
        "colab": {
          "base_uri": "https://localhost:8080/"
        },
        "id": "csvONhMjoKXz",
        "outputId": "32314615-2f4c-4b28-ade7-531212899e34"
      },
      "execution_count": null,
      "outputs": [
        {
          "output_type": "stream",
          "name": "stdout",
          "text": [
            "   alcohol  malic_acid   ash  alcalinity_of_ash  magnesium  total_phenols  \\\n",
            "0    14.23        1.71  2.43               15.6      127.0           2.80   \n",
            "1    13.20        1.78  2.14               11.2      100.0           2.65   \n",
            "2    13.16        2.36  2.67               18.6      101.0           2.80   \n",
            "3    14.37        1.95  2.50               16.8      113.0           3.85   \n",
            "4    13.24        2.59  2.87               21.0      118.0           2.80   \n",
            "\n",
            "   flavanoids  nonflavanoid_phenols  proanthocyanins  color_intensity   hue  \\\n",
            "0        3.06                  0.28             2.29             5.64  1.04   \n",
            "1        2.76                  0.26             1.28             4.38  1.05   \n",
            "2        3.24                  0.30             2.81             5.68  1.03   \n",
            "3        3.49                  0.24             2.18             7.80  0.86   \n",
            "4        2.69                  0.39             1.82             4.32  1.04   \n",
            "\n",
            "   od280/od315_of_diluted_wines  proline  class  \n",
            "0                          3.92   1065.0      0  \n",
            "1                          3.40   1050.0      0  \n",
            "2                          3.17   1185.0      0  \n",
            "3                          3.45   1480.0      0  \n",
            "4                          2.93    735.0      0  \n",
            "Length of data 178\n",
            "<class 'pandas.core.frame.DataFrame'>\n",
            "RangeIndex: 178 entries, 0 to 177\n",
            "Data columns (total 14 columns):\n",
            " #   Column                        Non-Null Count  Dtype  \n",
            "---  ------                        --------------  -----  \n",
            " 0   alcohol                       178 non-null    float64\n",
            " 1   malic_acid                    178 non-null    float64\n",
            " 2   ash                           178 non-null    float64\n",
            " 3   alcalinity_of_ash             178 non-null    float64\n",
            " 4   magnesium                     178 non-null    float64\n",
            " 5   total_phenols                 178 non-null    float64\n",
            " 6   flavanoids                    178 non-null    float64\n",
            " 7   nonflavanoid_phenols          178 non-null    float64\n",
            " 8   proanthocyanins               178 non-null    float64\n",
            " 9   color_intensity               178 non-null    float64\n",
            " 10  hue                           178 non-null    float64\n",
            " 11  od280/od315_of_diluted_wines  178 non-null    float64\n",
            " 12  proline                       178 non-null    float64\n",
            " 13  class                         178 non-null    int64  \n",
            "dtypes: float64(13), int64(1)\n",
            "memory usage: 19.6 KB\n",
            "None\n"
          ]
        }
      ]
    },
    {
      "cell_type": "code",
      "source": [
        "print(df.isnull().sum())\n",
        "print(\"From the above we can observe that the data has no null values\")\n"
      ],
      "metadata": {
        "colab": {
          "base_uri": "https://localhost:8080/"
        },
        "id": "p4CpUarLoEl1",
        "outputId": "24d3d73f-0440-4706-8ec1-e6c8b97912bd"
      },
      "execution_count": null,
      "outputs": [
        {
          "output_type": "stream",
          "name": "stdout",
          "text": [
            "alcohol                         0\n",
            "malic_acid                      0\n",
            "ash                             0\n",
            "alcalinity_of_ash               0\n",
            "magnesium                       0\n",
            "total_phenols                   0\n",
            "flavanoids                      0\n",
            "nonflavanoid_phenols            0\n",
            "proanthocyanins                 0\n",
            "color_intensity                 0\n",
            "hue                             0\n",
            "od280/od315_of_diluted_wines    0\n",
            "proline                         0\n",
            "class                           0\n",
            "dtype: int64\n",
            "From the above we can observe that the data has no null values\n"
          ]
        }
      ]
    },
    {
      "cell_type": "code",
      "source": [
        "print(\"The statistics of distribution\")\n",
        "print(df.describe())\n"
      ],
      "metadata": {
        "colab": {
          "base_uri": "https://localhost:8080/"
        },
        "id": "OhTY6OLkoT_8",
        "outputId": "6e092981-5ef0-4ea7-d5ab-c64385d52d8c"
      },
      "execution_count": null,
      "outputs": [
        {
          "output_type": "stream",
          "name": "stdout",
          "text": [
            "The statistics of distribution\n",
            "          alcohol  malic_acid         ash  alcalinity_of_ash   magnesium  \\\n",
            "count  178.000000  178.000000  178.000000         178.000000  178.000000   \n",
            "mean    13.000618    2.336348    2.366517          19.494944   99.741573   \n",
            "std      0.811827    1.117146    0.274344           3.339564   14.282484   \n",
            "min     11.030000    0.740000    1.360000          10.600000   70.000000   \n",
            "25%     12.362500    1.602500    2.210000          17.200000   88.000000   \n",
            "50%     13.050000    1.865000    2.360000          19.500000   98.000000   \n",
            "75%     13.677500    3.082500    2.557500          21.500000  107.000000   \n",
            "max     14.830000    5.800000    3.230000          30.000000  162.000000   \n",
            "\n",
            "       total_phenols  flavanoids  nonflavanoid_phenols  proanthocyanins  \\\n",
            "count     178.000000  178.000000            178.000000       178.000000   \n",
            "mean        2.295112    2.029270              0.361854         1.590899   \n",
            "std         0.625851    0.998859              0.124453         0.572359   \n",
            "min         0.980000    0.340000              0.130000         0.410000   \n",
            "25%         1.742500    1.205000              0.270000         1.250000   \n",
            "50%         2.355000    2.135000              0.340000         1.555000   \n",
            "75%         2.800000    2.875000              0.437500         1.950000   \n",
            "max         3.880000    5.080000              0.660000         3.580000   \n",
            "\n",
            "       color_intensity         hue  od280/od315_of_diluted_wines      proline  \\\n",
            "count       178.000000  178.000000                    178.000000   178.000000   \n",
            "mean          5.058090    0.957449                      2.611685   746.893258   \n",
            "std           2.318286    0.228572                      0.709990   314.907474   \n",
            "min           1.280000    0.480000                      1.270000   278.000000   \n",
            "25%           3.220000    0.782500                      1.937500   500.500000   \n",
            "50%           4.690000    0.965000                      2.780000   673.500000   \n",
            "75%           6.200000    1.120000                      3.170000   985.000000   \n",
            "max          13.000000    1.710000                      4.000000  1680.000000   \n",
            "\n",
            "            class  \n",
            "count  178.000000  \n",
            "mean     0.938202  \n",
            "std      0.775035  \n",
            "min      0.000000  \n",
            "25%      0.000000  \n",
            "50%      1.000000  \n",
            "75%      2.000000  \n",
            "max      2.000000  \n"
          ]
        }
      ]
    },
    {
      "cell_type": "code",
      "source": [
        "sns.countplot(x=df['class'])\n"
      ],
      "metadata": {
        "colab": {
          "base_uri": "https://localhost:8080/",
          "height": 466
        },
        "id": "8MZwjJjkoYUo",
        "outputId": "fabe589f-bbce-49bc-8411-f881c4ae3023"
      },
      "execution_count": null,
      "outputs": [
        {
          "output_type": "execute_result",
          "data": {
            "text/plain": [
              "<Axes: xlabel='class', ylabel='count'>"
            ]
          },
          "metadata": {},
          "execution_count": 88
        },
        {
          "output_type": "display_data",
          "data": {
            "text/plain": [
              "<Figure size 640x480 with 1 Axes>"
            ],
            "image/png": "[encoded data removed]"
          },
          "metadata": {}
        }
      ]
    },
    {
      "cell_type": "code",
      "source": [
        "x_of_df = df.drop(['class'],axis=1)\n",
        "y_of_df= df['class']\n",
        "x_train, x_test, y_train, y_test = train_test_split(x_of_df,y_of_df,test_size=0.3,random_state=10)\n"
      ],
      "metadata": {
        "id": "GXCOc7ujo-di"
      },
      "execution_count": null,
      "outputs": []
    },
    {
      "cell_type": "code",
      "source": [
        "print(x_train)\n",
        "print(x_train.describe())\n"
      ],
      "metadata": {
        "colab": {
          "base_uri": "https://localhost:8080/"
        },
        "id": "CXKxtri8pGL4",
        "outputId": "553ee818-65e5-48c1-f617-a7706fa3d27b"
      },
      "execution_count": null,
      "outputs": [
        {
          "output_type": "stream",
          "name": "stdout",
          "text": [
            "     alcohol  malic_acid   ash  alcalinity_of_ash  magnesium  total_phenols  \\\n",
            "174    13.40        3.91  2.48               23.0      102.0           1.80   \n",
            "82     12.08        1.13  2.51               24.0       78.0           2.00   \n",
            "2      13.16        2.36  2.67               18.6      101.0           2.80   \n",
            "114    12.08        1.39  2.50               22.5       84.0           2.56   \n",
            "153    13.23        3.30  2.28               18.5       98.0           1.80   \n",
            "..       ...         ...   ...                ...        ...            ...   \n",
            "113    11.41        0.74  2.50               21.0       88.0           2.48   \n",
            "64     12.17        1.45  2.53               19.0      104.0           1.89   \n",
            "15     13.63        1.81  2.70               17.2      112.0           2.85   \n",
            "125    12.07        2.16  2.17               21.0       85.0           2.60   \n",
            "9      13.86        1.35  2.27               16.0       98.0           2.98   \n",
            "\n",
            "     flavanoids  nonflavanoid_phenols  proanthocyanins  color_intensity   hue  \\\n",
            "174        0.75                  0.43             1.41             7.30  0.70   \n",
            "82         1.58                  0.40             1.40             2.20  1.31   \n",
            "2          3.24                  0.30             2.81             5.68  1.03   \n",
            "114        2.29                  0.43             1.04             2.90  0.93   \n",
            "153        0.83                  0.61             1.87            10.52  0.56   \n",
            "..          ...                   ...              ...              ...   ...   \n",
            "113        2.01                  0.42             1.44             3.08  1.10   \n",
            "64         1.75                  0.45             1.03             2.95  1.45   \n",
            "15         2.91                  0.30             1.46             7.30  1.28   \n",
            "125        2.65                  0.37             1.35             2.76  0.86   \n",
            "9          3.15                  0.22             1.85             7.22  1.01   \n",
            "\n",
            "     od280/od315_of_diluted_wines  proline  \n",
            "174                          1.56    750.0  \n",
            "82                           2.72    630.0  \n",
            "2                            3.17   1185.0  \n",
            "114                          3.19    385.0  \n",
            "153                          1.51    675.0  \n",
            "..                            ...      ...  \n",
            "113                          2.31    434.0  \n",
            "64                           2.23    355.0  \n",
            "15                           2.88   1310.0  \n",
            "125                          3.28    378.0  \n",
            "9                            3.55   1045.0  \n",
            "\n",
            "[124 rows x 13 columns]\n",
            "          alcohol  malic_acid         ash  alcalinity_of_ash   magnesium  \\\n",
            "count  124.000000  124.000000  124.000000         124.000000  124.000000   \n",
            "mean    13.083952    2.372097    2.403145          19.780645   98.790323   \n",
            "std      0.811495    1.145600    0.250669           3.344032   12.698040   \n",
            "min     11.030000    0.740000    1.700000          11.400000   70.000000   \n",
            "25%     12.445000    1.637500    2.250000          17.500000   89.000000   \n",
            "50%     13.095000    1.885000    2.380000          19.500000   97.000000   \n",
            "75%     13.732500    3.000000    2.600000          22.000000  106.250000   \n",
            "max     14.830000    5.800000    3.220000          30.000000  139.000000   \n",
            "\n",
            "       total_phenols  flavanoids  nonflavanoid_phenols  proanthocyanins  \\\n",
            "count     124.000000  124.000000            124.000000       124.000000   \n",
            "mean        2.289355    2.009597              0.372903         1.563065   \n",
            "std         0.621601    0.976880              0.123062         0.500615   \n",
            "min         0.980000    0.340000              0.130000         0.550000   \n",
            "25%         1.747500    1.190000              0.277500         1.250000   \n",
            "50%         2.335000    2.155000              0.370000         1.510000   \n",
            "75%         2.800000    2.767500              0.450000         1.905000   \n",
            "max         3.880000    3.930000              0.660000         2.960000   \n",
            "\n",
            "       color_intensity         hue  od280/od315_of_diluted_wines      proline  \n",
            "count       124.000000  124.000000                    124.000000   124.000000  \n",
            "mean          5.150484    0.960081                      2.589597   768.653226  \n",
            "std           2.396982    0.236084                      0.685326   334.930500  \n",
            "min           1.280000    0.480000                      1.290000   278.000000  \n",
            "25%           3.287500    0.777500                      2.057500   507.500000  \n",
            "50%           4.800000    0.985000                      2.770000   666.000000  \n",
            "75%           6.605000    1.122500                      3.122500  1045.000000  \n",
            "max          13.000000    1.710000                      4.000000  1680.000000  \n"
          ]
        }
      ]
    },
    {
      "cell_type": "code",
      "source": [
        "for col in x_train.columns:\n",
        "  if col=='class':\n",
        "    continue\n",
        "\n",
        "  x_test[col]=(x_test[col] - x_train[col].min()) / (x_train[col].max()- x_train[col].min())\n",
        "  x_train[col]=(x_train[col] - x_train[col].min()) / (x_train[col].max()- x_train[col].min())\n"
      ],
      "metadata": {
        "id": "bvREOIH0pHr8"
      },
      "execution_count": null,
      "outputs": []
    },
    {
      "cell_type": "code",
      "source": [
        "print(x_train)\n",
        "print(x_train.describe())"
      ],
      "metadata": {
        "colab": {
          "base_uri": "https://localhost:8080/"
        },
        "id": "ip-2zX-jpKp2",
        "outputId": "ce53ad5b-1771-4d6b-aab5-9021cae26555"
      },
      "execution_count": null,
      "outputs": [
        {
          "output_type": "stream",
          "name": "stdout",
          "text": [
            "      alcohol  malic_acid       ash  alcalinity_of_ash  magnesium  \\\n",
            "174  0.623684    0.626482  0.513158           0.623656   0.463768   \n",
            "82   0.276316    0.077075  0.532895           0.677419   0.115942   \n",
            "2    0.560526    0.320158  0.638158           0.387097   0.449275   \n",
            "114  0.276316    0.128458  0.526316           0.596774   0.202899   \n",
            "153  0.578947    0.505929  0.381579           0.381720   0.405797   \n",
            "..        ...         ...       ...                ...        ...   \n",
            "113  0.100000    0.000000  0.526316           0.516129   0.260870   \n",
            "64   0.300000    0.140316  0.546053           0.408602   0.492754   \n",
            "15   0.684211    0.211462  0.657895           0.311828   0.608696   \n",
            "125  0.273684    0.280632  0.309211           0.516129   0.217391   \n",
            "9    0.744737    0.120553  0.375000           0.247312   0.405797   \n",
            "\n",
            "     total_phenols  flavanoids  nonflavanoid_phenols  proanthocyanins  \\\n",
            "174       0.282759    0.114206              0.566038         0.356846   \n",
            "82        0.351724    0.345404              0.509434         0.352697   \n",
            "2         0.627586    0.807799              0.320755         0.937759   \n",
            "114       0.544828    0.543175              0.566038         0.203320   \n",
            "153       0.282759    0.136490              0.905660         0.547718   \n",
            "..             ...         ...                   ...              ...   \n",
            "113       0.517241    0.465181              0.547170         0.369295   \n",
            "64        0.313793    0.392758              0.603774         0.199170   \n",
            "15        0.644828    0.715877              0.320755         0.377593   \n",
            "125       0.558621    0.643454              0.452830         0.331950   \n",
            "9         0.689655    0.782730              0.169811         0.539419   \n",
            "\n",
            "     color_intensity       hue  od280/od315_of_diluted_wines   proline  \n",
            "174         0.513652  0.178862                      0.099631  0.336662  \n",
            "82          0.078498  0.674797                      0.527675  0.251070  \n",
            "2           0.375427  0.447154                      0.693727  0.646933  \n",
            "114         0.138225  0.365854                      0.701107  0.076320  \n",
            "153         0.788396  0.065041                      0.081181  0.283167  \n",
            "..               ...       ...                           ...       ...  \n",
            "113         0.153584  0.504065                      0.376384  0.111270  \n",
            "64          0.142491  0.788618                      0.346863  0.054922  \n",
            "15          0.513652  0.650407                      0.586716  0.736091  \n",
            "125         0.126280  0.308943                      0.734317  0.071327  \n",
            "9           0.506826  0.430894                      0.833948  0.547076  \n",
            "\n",
            "[124 rows x 13 columns]\n",
            "          alcohol  malic_acid         ash  alcalinity_of_ash   magnesium  \\\n",
            "count  124.000000  124.000000  124.000000         124.000000  124.000000   \n",
            "mean     0.540514    0.322549    0.462596           0.450572    0.417251   \n",
            "std      0.213551    0.226403    0.164914           0.179787    0.184030   \n",
            "min      0.000000    0.000000    0.000000           0.000000    0.000000   \n",
            "25%      0.372368    0.177372    0.361842           0.327957    0.275362   \n",
            "50%      0.543421    0.226285    0.447368           0.435484    0.391304   \n",
            "75%      0.711184    0.446640    0.592105           0.569892    0.525362   \n",
            "max      1.000000    1.000000    1.000000           1.000000    1.000000   \n",
            "\n",
            "       total_phenols  flavanoids  nonflavanoid_phenols  proanthocyanins  \\\n",
            "count     124.000000  124.000000            124.000000       124.000000   \n",
            "mean        0.451502    0.465069              0.458308         0.420359   \n",
            "std         0.214345    0.272111              0.232193         0.207724   \n",
            "min         0.000000    0.000000              0.000000         0.000000   \n",
            "25%         0.264655    0.236769              0.278302         0.290456   \n",
            "50%         0.467241    0.505571              0.452830         0.398340   \n",
            "75%         0.627586    0.676184              0.603774         0.562241   \n",
            "max         1.000000    1.000000              1.000000         1.000000   \n",
            "\n",
            "       color_intensity         hue  od280/od315_of_diluted_wines     proline  \n",
            "count       124.000000  124.000000                    124.000000  124.000000  \n",
            "mean          0.330246    0.390309                      0.479556    0.349967  \n",
            "std           0.204521    0.191938                      0.252888    0.238895  \n",
            "min           0.000000    0.000000                      0.000000    0.000000  \n",
            "25%           0.171288    0.241870                      0.283210    0.163695  \n",
            "50%           0.300341    0.410569                      0.546125    0.276748  \n",
            "75%           0.454352    0.522358                      0.676199    0.547076  \n",
            "max           1.000000    1.000000                      1.000000    1.000000  \n"
          ]
        }
      ]
    },
    {
      "cell_type": "code",
      "source": [
        "for col in x_of_df.columns:\n",
        "  if col=='class':\n",
        "    continue\n",
        "\n",
        "  x_of_df[col]=(x_of_df[col] - x_of_df[col].min()) / (x_of_df[col].max()- x_train[col].min())\n"
      ],
      "metadata": {
        "id": "aKK5rxilomBp"
      },
      "execution_count": null,
      "outputs": []
    },
    {
      "cell_type": "code",
      "source": [
        "\n",
        "classifier  = RandomForestClassifier(max_depth=4, random_state=10)\n",
        "classifier.fit(x_train,y_train)"
      ],
      "metadata": {
        "colab": {
          "base_uri": "https://localhost:8080/",
          "height": 74
        },
        "id": "MXuk1BoWpu87",
        "outputId": "0daf1bf1-771e-4a57-aaac-ccb03a786e4a"
      },
      "execution_count": null,
      "outputs": [
        {
          "output_type": "execute_result",
          "data": {
            "text/plain": [
              "RandomForestClassifier(max_depth=4, random_state=10)"
            ],
            "text/html": [
              "<style>#sk-container-id-1 {color: black;background-color: white;}#sk-container-id-1 pre{padding: 0;}#sk-container-id-1 div.sk-toggleable {background-color: white;}#sk-container-id-1 label.sk-toggleable__label {cursor: pointer;display: block;width: 100%;margin-bottom: 0;padding: 0.3em;box-sizing: border-box;text-align: center;}#sk-container-id-1 label.sk-toggleable__label-arrow:before {content: \"▸\";float: left;margin-right: 0.25em;color: #696969;}#sk-container-id-1 label.sk-toggleable__label-arrow:hover:before {color: black;}#sk-container-id-1 div.sk-estimator:hover label.sk-toggleable__label-arrow:before {color: black;}#sk-container-id-1 div.sk-toggleable__content {max-height: 0;max-width: 0;overflow: hidden;text-align: left;background-color: #f0f8ff;}#sk-container-id-1 div.sk-toggleable__content pre {margin: 0.2em;color: black;border-radius: 0.25em;background-color: #f0f8ff;}#sk-container-id-1 input.sk-toggleable__control:checked~div.sk-toggleable__content {max-height: 200px;max-width: 100%;overflow: auto;}#sk-container-id-1 input.sk-toggleable__control:checked~label.sk-toggleable__label-arrow:before {content: \"▾\";}#sk-container-id-1 div.sk-estimator input.sk-toggleable__control:checked~label.sk-toggleable__label {background-color: #d4ebff;}#sk-container-id-1 div.sk-label input.sk-toggleable__control:checked~label.sk-toggleable__label {background-color: #d4ebff;}#sk-container-id-1 input.sk-hidden--visually {border: 0;clip: rect(1px 1px 1px 1px);clip: rect(1px, 1px, 1px, 1px);height: 1px;margin: -1px;overflow: hidden;padding: 0;position: absolute;width: 1px;}#sk-container-id-1 div.sk-estimator {font-family: monospace;background-color: #f0f8ff;border: 1px dotted black;border-radius: 0.25em;box-sizing: border-box;margin-bottom: 0.5em;}#sk-container-id-1 div.sk-estimator:hover {background-color: #d4ebff;}#sk-container-id-1 div.sk-parallel-item::after {content: \"\";width: 100%;border-bottom: 1px solid gray;flex-grow: 1;}#sk-container-id-1 div.sk-label:hover label.sk-toggleable__label {background-color: #d4ebff;}#sk-container-id-1 div.sk-serial::before {content: \"\";position: absolute;border-left: 1px solid gray;box-sizing: border-box;top: 0;bottom: 0;left: 50%;z-index: 0;}#sk-container-id-1 div.sk-serial {display: flex;flex-direction: column;align-items: center;background-color: white;padding-right: 0.2em;padding-left: 0.2em;position: relative;}#sk-container-id-1 div.sk-item {position: relative;z-index: 1;}#sk-container-id-1 div.sk-parallel {display: flex;align-items: stretch;justify-content: center;background-color: white;position: relative;}#sk-container-id-1 div.sk-item::before, #sk-container-id-1 div.sk-parallel-item::before {content: \"\";position: absolute;border-left: 1px solid gray;box-sizing: border-box;top: 0;bottom: 0;left: 50%;z-index: -1;}#sk-container-id-1 div.sk-parallel-item {display: flex;flex-direction: column;z-index: 1;position: relative;background-color: white;}#sk-container-id-1 div.sk-parallel-item:first-child::after {align-self: flex-end;width: 50%;}#sk-container-id-1 div.sk-parallel-item:last-child::after {align-self: flex-start;width: 50%;}#sk-container-id-1 div.sk-parallel-item:only-child::after {width: 0;}#sk-container-id-1 div.sk-dashed-wrapped {border: 1px dashed gray;margin: 0 0.4em 0.5em 0.4em;box-sizing: border-box;padding-bottom: 0.4em;background-color: white;}#sk-container-id-1 div.sk-label label {font-family: monospace;font-weight: bold;display: inline-block;line-height: 1.2em;}#sk-container-id-1 div.sk-label-container {text-align: center;}#sk-container-id-1 div.sk-container {/* jupyter's `normalize.less` sets `[hidden] { display: none; }` but bootstrap.min.css set `[hidden] { display: none !important; }` so we also need the `!important` here to be able to override the default hidden behavior on the sphinx rendered scikit-learn.org. See: https://github.com/scikit-learn/scikit-learn/issues/21755 */display: inline-block !important;position: relative;}#sk-container-id-1 div.sk-text-repr-fallback {display: none;}</style><div id=\"sk-container-id-1\" class=\"sk-top-container\"><div class=\"sk-text-repr-fallback\"><pre>RandomForestClassifier(max_depth=4, random_state=10)</pre><b>In a Jupyter environment, please rerun this cell to show the HTML representation or trust the notebook. <br />On GitHub, the HTML representation is unable to render, please try loading this page with nbviewer.org.</b></div><div class=\"sk-container\" hidden><div class=\"sk-item\"><div class=\"sk-estimator sk-toggleable\"><input class=\"sk-toggleable__control sk-hidden--visually\" id=\"sk-estimator-id-1\" type=\"checkbox\" checked><label for=\"sk-estimator-id-1\" class=\"sk-toggleable__label sk-toggleable__label-arrow\">RandomForestClassifier</label><div class=\"sk-toggleable__content\"><pre>RandomForestClassifier(max_depth=4, random_state=10)</pre></div></div></div></div></div>"
            ]
          },
          "metadata": {},
          "execution_count": 94
        }
      ]
    },
    {
      "cell_type": "code",
      "source": [
        "y_pred = classifier.predict(x_test)\n",
        "print(\"Accuracy of random forest classifier \"+str(accuracy_score(y_test, y_pred)))"
      ],
      "metadata": {
        "colab": {
          "base_uri": "https://localhost:8080/"
        },
        "id": "dEso9rRVJlAR",
        "outputId": "e8149a88-12f7-47f5-c7ac-f1990f5d4cb1"
      },
      "execution_count": null,
      "outputs": [
        {
          "output_type": "stream",
          "name": "stdout",
          "text": [
            "Accuracy of random forest classifier 0.9444444444444444\n"
          ]
        }
      ]
    },
    {
      "cell_type": "code",
      "source": [
        "\n",
        "classifier  = BaggingClassifier(n_estimators=8, random_state=10)\n",
        "classifier.fit(x_train,y_train)\n",
        "y_pred = classifier.predict(x_test)\n",
        "print(\"Accuracy of decision tree classifier with bootstrap aggregation\"+str(accuracy_score(y_test, y_pred)))"
      ],
      "metadata": {
        "id": "7tTy8Yz5J6_-",
        "colab": {
          "base_uri": "https://localhost:8080/"
        },
        "outputId": "c36364ff-33cc-4a9f-d31d-493e5b8a935b"
      },
      "execution_count": null,
      "outputs": [
        {
          "output_type": "stream",
          "name": "stdout",
          "text": [
            "Accuracy of decision tree classifier with bootstrap aggregation0.9074074074074074\n"
          ]
        }
      ]
    },
    {
      "cell_type": "code",
      "source": [
        "\n",
        "classifier  = AdaBoostClassifier(n_estimators=25, random_state=10)\n",
        "classifier.fit(x_train,y_train)\n",
        "y_pred = classifier.predict(x_test)\n",
        "print(\"Accuracy of decision tree classifier with adaboost \"+str(accuracy_score(y_test, y_pred)))"
      ],
      "metadata": {
        "colab": {
          "base_uri": "https://localhost:8080/"
        },
        "id": "yfTBlX9b9JZP",
        "outputId": "8cf1bfd1-e2c8-46ee-efbd-2993aac5a0c6"
      },
      "execution_count": null,
      "outputs": [
        {
          "output_type": "stream",
          "name": "stdout",
          "text": [
            "Accuracy of decision tree classifier with adaboost 0.9444444444444444\n"
          ]
        }
      ]
    },
    {
      "cell_type": "code",
      "source": [],
      "metadata": {
        "id": "VNWW-m-3_Z4Y"
      },
      "execution_count": null,
      "outputs": []
    },
    {
      "cell_type": "markdown",
      "source": [
        "##A3 [P ∥ CO3 & CO4] Ensemble of Methods (12 points)\n",
        "Use the ‘Vehicle dataset from Car Dekho‘ dataset 3\n",
        "\n",
        "to prepare a pipeline that performs an ensemble of the\n",
        "below models (built from scratch) to produce the final result. You are free to choose any ensemble approach.\n",
        "• Lasso regression\n",
        "• Ridge regression\n",
        "• Locally weighted linear regression\n",
        "• Regression decision trees\n",
        "• KNN regressor"
      ],
      "metadata": {
        "id": "r7bvhP9l4Q5O"
      }
    },
    {
      "cell_type": "code",
      "source": [
        "import numpy as np\n",
        "\n",
        "def lasso(alpha, noIterations, x_train, y_train, penalty):\n",
        "    # Add a column of ones to the beginning of x_train\n",
        "    tempOneArr = np.ones((len(x_train), 1))\n",
        "    x_temp = np.hstack((tempOneArr, x_train))\n",
        "\n",
        "    # Reshape y_train into a column vector\n",
        "    y_train = y_train.reshape(-1, 1)\n",
        "\n",
        "    # Initialize thetas as an array of zeros with the same length as the number of features in x_train plus 1\n",
        "    thetas = np.zeros((len(x_train[0]) + 1, 1))\n",
        "\n",
        "    for iteration in range(noIterations):\n",
        "        # Initialize a temporary array of zeros with the same length as the number of features in x_train plus 1\n",
        "        tempThetas = np.zeros((len(x_train[0]) + 1, 1))\n",
        "\n",
        "        # Make predictions based on current thetas and calculate error\n",
        "        y_pred = np.matmul(x_temp, thetas)\n",
        "        err = y_train - y_pred\n",
        "\n",
        "        # Update temporary thetas based on gradient descent, L1 penalty (Lasso), and learning rate\n",
        "        tempThetas += (np.matmul(np.transpose(x_temp), err)) / (len(x_train))\n",
        "        t = penalty * (np.sign(thetas))\n",
        "        tempThetas += (t) / (len(x_train))\n",
        "\n",
        "        # Update thetas based on learning rate and temporary thetas\n",
        "        thetas += alpha * (tempThetas)\n",
        "\n",
        "    return thetas\n"
      ],
      "metadata": {
        "id": "yAZvZDPf8EK2"
      },
      "execution_count": null,
      "outputs": []
    },
    {
      "cell_type": "code",
      "source": [
        "\n",
        "import numpy as np\n",
        "\n",
        "def ridge(alpha, noIterations, x_train, y_train, penalty):\n",
        "    # Add a column of ones to the beginning of x_train\n",
        "    tempOneArr = np.ones((len(x_train), 1))\n",
        "    x_temp = np.hstack((tempOneArr, x_train))\n",
        "\n",
        "    # Reshape y_train into a column vector\n",
        "    y_train = y_train.reshape(-1, 1)\n",
        "\n",
        "    # Initialize thetas as an array of zeros with the same length as the number of features in x_train plus 1\n",
        "    thetas = np.zeros((len(x_train[0]) + 1, 1))\n",
        "\n",
        "    for iteration in range(noIterations):\n",
        "        # Initialize a temporary array of zeros with the same length as the number of features in x_train plus 1\n",
        "        tempThetas = np.zeros((len(x_train[0]) + 1, 1))\n",
        "\n",
        "        # Make predictions based on current thetas and calculate error\n",
        "        y_pred = np.matmul(x_temp, thetas)\n",
        "        err = y_train - y_pred\n",
        "\n",
        "        # Update temporary thetas based on gradient descent and ridge penalty\n",
        "        tempThetas += (np.matmul(np.transpose(x_temp), err)) / (len(x_train))\n",
        "        tempThetas += (penalty * 2 * thetas) / (len(x_train))\n",
        "\n",
        "        # Update thetas based on learning rate and temporary thetas\n",
        "        thetas += alpha * (tempThetas)\n",
        "\n",
        "    return thetas\n"
      ],
      "metadata": {
        "id": "aTX2Apub7Ytc"
      },
      "execution_count": null,
      "outputs": []
    },
    {
      "cell_type": "code",
      "source": [
        "\n",
        "def predict(x_test, thetas):\n",
        "    \"\"\"\n",
        "    Predicts the target variable for new input data using a linear regression model.\n",
        "\n",
        "    Parameters:\n",
        "    x_test (numpy.ndarray): The input data to make predictions on.\n",
        "    thetas (numpy.ndarray): The learned parameters of the linear regression model.\n",
        "\n",
        "    Returns:\n",
        "    numpy.ndarray: The predicted target values for the input data.\n",
        "    \"\"\"\n",
        "    # Add a column of ones to x_test to represent the bias term\n",
        "    tempOneArr = np.ones((len(x_test), 1))\n",
        "    x_temp = np.hstack((tempOneArr, x_test))\n",
        "\n",
        "    # Compute the predicted target values using the dot product of x_temp and thetas\n",
        "    y_pred = np.matmul(x_temp, thetas)\n",
        "\n",
        "    return y_pred\n"
      ],
      "metadata": {
        "id": "81t266Bc3GyX"
      },
      "execution_count": null,
      "outputs": []
    },
    {
      "cell_type": "code",
      "source": [
        "def lin_wt_reg(x_test, x_train, y_train, tao):\n",
        "  \"\"\"\n",
        "  Applies linear weighted regression on the given test and training data.\n",
        "  \"\"\"\n",
        "\n",
        "  # Add a column of ones to the test data for the bias term.\n",
        "  tempOneArr = np.ones((len(x_test), 1))\n",
        "  x_test = np.hstack((tempOneArr, x_test))  \n",
        "\n",
        "  # Add a column of ones to the training data for the bias term.\n",
        "  tempOneArr = np.ones((len(x_train), 1))\n",
        "  x_temp = np.hstack((tempOneArr, x_train))\n",
        "\n",
        "  y_pred = []\n",
        "  # Iterate over each sample in the test data.\n",
        "  for i in x_test:\n",
        "    # Create an empty matrix for the weights.\n",
        "    ww = []\n",
        "    for k in range(len(x_temp)):\n",
        "      ww.append([0 for j in range(len(x_temp))])\n",
        "\n",
        "    # Calculate the weight for each training sample using the Gaussian kernel.\n",
        "    for j in range(len(x_temp)):\n",
        "      temp = (np.dot(np.transpose(x_temp[j] - i), x_temp[j] - i)) / (-2 * tao * tao)\n",
        "      temp = math.exp(temp)\n",
        "      ww[j][j] = temp\n",
        "\n",
        "    for k in range(len(x_temp)):\n",
        "      ww[k] = np.array(ww[k])\n",
        "    ww = np.array(ww)\n",
        "\n",
        "    # Calculate the theta using the weighted least squares.\n",
        "    temp = np.matmul(np.transpose(x_temp), ww)\n",
        "    theta = np.matmul(np.matmul(np.linalg.pinv(np.matmul(temp, x_temp)), temp), y_train)\n",
        "\n",
        "    # Calculate the predicted target value for the current test sample.\n",
        "    y_pred.append(np.matmul(i, theta))\n",
        "\n",
        "  y_pred = np.array(y_pred)\n",
        "  return y_pred\n"
      ],
      "metadata": {
        "id": "e8cZsyFd_aM9"
      },
      "execution_count": null,
      "outputs": []
    },
    {
      "cell_type": "code",
      "source": [
        "\n",
        "import numpy as np\n",
        "\n",
        "# Define a class to represent each node in the decision tree\n",
        "class Node:\n",
        "    def __init__(self, x, y, is_leaf=False):\n",
        "        # Store the training data that led to this node\n",
        "        self.x = x\n",
        "        self.y = y\n",
        "        # Pointers to the left and right children nodes\n",
        "        self.left = None\n",
        "        self.right = None\n",
        "        # Whether or not this node is a leaf node\n",
        "        self.is_leaf = is_leaf\n",
        "\n",
        "    # Set the feature and threshold used to split the data at this node\n",
        "    def set_feature(self, feature, threshold):\n",
        "        self.feature = feature\n",
        "        self.threshold = threshold\n",
        "\n",
        "    # Set the value of the leaf node to be the mean of the target values at this node\n",
        "    def set_val(self):\n",
        "        self.val = np.mean(self.y.to_numpy())\n",
        "\n",
        "    # Set the left child node of this node\n",
        "    def set_left(self, left):\n",
        "        self.left = left\n",
        "\n",
        "    # Set the right child node of this node\n",
        "    def set_right(self, right):\n",
        "        self.right = right\n",
        "\n",
        "# Define a class to represent the decision tree\n",
        "class DTReg:\n",
        "    def __init__(self, max_depth, min_samples):\n",
        "        # Pointer to the root node of the decision tree\n",
        "        self.root = None\n",
        "        # Maximum allowed depth of the decision tree\n",
        "        self.max_depth = max_depth\n",
        "        # Minimum number of samples required to split a node\n",
        "        self.min_samples = min_samples\n",
        "\n",
        "    # Find the best feature and threshold to split the data at this node\n",
        "    def split_pos(self, x_train, y_train):\n",
        "        # Get the list of features in the training data\n",
        "        features = x_train.columns\n",
        "        # Initialize variables to store the best feature and threshold found so far, and the minimum loss\n",
        "        thresh = -1\n",
        "        feature = features[0]\n",
        "        min_loss = np.inf\n",
        "        # Loop through each feature and each unique value of that feature\n",
        "        for i in features:\n",
        "            for j in np.unique(x_train[i].to_numpy()):\n",
        "                # Split the data based on whether the feature value is less than or greater than the threshold\n",
        "                left = y_train[x_train[i] < j]\n",
        "                right = y_train[x_train[i] >= j]\n",
        "                # Calculate the loss for this split\n",
        "                if len(left) > 0 and len(right) > 0:\n",
        "                    temp_loss = (np.std(left.to_numpy()) * np.sum(left.to_numpy())) + (\n",
        "                                np.std(right.to_numpy()) * np.sum(right.to_numpy()))\n",
        "                    # If this split has lower loss than the previous best split, update the best feature, threshold, and loss\n",
        "                    if temp_loss < min_loss:\n",
        "                        min_loss = temp_loss\n",
        "                        feature = i\n",
        "                        thresh = j\n",
        "        # Return the best feature and threshold found\n",
        "        return feature, thresh\n",
        "\n",
        "    # Recursively construct the decision tree by splitting nodes and creating child nodes\n",
        "    def construct(self, x_train, y_train, depth):\n",
        "        # Check if the stopping criterion has been met: the node has fewer than min_samples samples or the maximum depth has been reached\n",
        "        if len(x_train) > self.min_samples and depth < self.max_depth:\n",
        "            # Split the node and create child nodes\n",
        "            temp = self.split_pos(x_train, y_train)\n",
        "            feature = temp[0]\n",
        "            threshold = temp[1]\n",
        "            tempNode = Node(x_train, y_train)\n",
        "            tempNode.set_feature(feature, threshold)\n",
        "            tempNode.set_left(self.construct(x_train[x_train[feature] < threshold], y_train\n",
        "\n",
        "    def fit(self, X_train, y_train):\n",
        "        \"\"\"\n",
        "        Fits a decision tree model to the training data.\n",
        "        \"\"\"\n",
        "        # Constructs the decision tree from the training data\n",
        "        self.root = self.construct(X_train, y_train, 0)\n",
        "\n",
        "    def predict_for_one(self, sample, node):\n",
        "        \"\"\"\n",
        "        Predicts the class label for a single sample using the decision tree.\n",
        "        \"\"\"\n",
        "        # If the node is a leaf, set the predicted value and return it\n",
        "        if node.is_leaf:\n",
        "            node.set_val()\n",
        "            return node.val\n",
        "\n",
        "        # Traverse the tree based on the feature value of the sample\n",
        "        if sample[node.feature] < node.threshold:\n",
        "            return self.predict_for_one(sample, node.left)\n",
        "        else:\n",
        "            return self.predict_for_one(sample, node.right)\n",
        "\n",
        "    def predict(self, X_test):\n",
        "        \"\"\"\n",
        "        Predicts the class labels for multiple samples using the decision tree.\n",
        "        \"\"\"\n",
        "        y_pred = []\n",
        "        for i in X_test.index:\n",
        "            # Predict the class label for each sample and add it to the list\n",
        "            y_pred.append(self.predict_for_one(X_test.loc[i], self.root))\n",
        "        return np.array(y_pred)\n"
      ],
      "metadata": {
        "id": "d4h0NqprY8J-"
      },
      "execution_count": null,
      "outputs": []
    },
    {
      "cell_type": "code",
      "source": [
        "import numpy as np\n",
        "\n",
        "# Calculates the absolute difference between two input vectors x and y\n",
        "def absDiff(x, y):\n",
        "    return np.sqrt(np.sum(np.square(x - y)))\n",
        "\n",
        "# Sorts a list of dictionaries based on the 'val' key\n",
        "def sorter(a):\n",
        "    return a['val']\n",
        "\n",
        "# Example usage of the absDiff and sorter functions\n",
        "if __name__ == '__main__':\n",
        "    x = np.array([1, 2, 3])\n",
        "    y = np.array([4, 5, 6])\n",
        "    z = np.array([7, 8, 9])\n",
        "\n",
        "    diff1 = absDiff(x, y)  # Calculates the distance between x and y\n",
        "    diff2 = absDiff(y, z)  # Calculates the distance between y and z\n",
        "\n",
        "    data = [{'val': 3, 'name': 'John'}, {'val': 1, 'name': 'Jane'}, {'val': 2, 'name': 'Bob'}]\n",
        "    sorted_data = sorted(data, key=sorter)  # Sorts the list of dictionaries based on the 'val' key\n",
        "\n",
        "    print(diff1, diff2, sorted_data)\n"
      ],
      "metadata": {
        "id": "ZKOjEQeFRSKh"
      },
      "execution_count": null,
      "outputs": []
    },
    {
      "cell_type": "code",
      "source": [
        "def knn(k, x_train, y_train, x_test):\n",
        "    y_pred = []\n",
        "\n",
        "    # loop through each test instance\n",
        "    for i in x_test:\n",
        "        # calculate the absolute difference between each training instance and the test instance\n",
        "        x_train['tempDiff'] = x_train.apply(lambda z: absDiff(z.to_numpy(), i), axis=1)\n",
        "\n",
        "        # convert the absolute differences into a numpy array\n",
        "        diff = x_train['tempDiff'].to_numpy()\n",
        "\n",
        "        # create a list of dictionaries where each dictionary contains the index of a training instance and its corresponding absolute difference\n",
        "        tempDict = []\n",
        "        j = 0\n",
        "        while j < len(diff):\n",
        "            tempDict.append({'index': j, 'val': diff[j]})\n",
        "            j += 1\n",
        "\n",
        "        # sort the list of dictionaries by the absolute difference value\n",
        "        tempDict.sort(key=sorter)\n",
        "\n",
        "        # add up the k nearest neighbors' target values\n",
        "        j = 0\n",
        "        sum = 0.0\n",
        "        while j < k:\n",
        "            sum += y_train[tempDict[j]['index']]\n",
        "            j += 1\n",
        "\n",
        "        # compute the average target value of the k nearest neighbors and append it to the predictions list\n",
        "        y_pred.append((sum / k))\n",
        "\n",
        "        # drop the temporary column used for calculating the absolute differences\n",
        "        x_train = x_train.drop(['tempDiff'], axis=1)\n",
        "\n",
        "    return y_pred\n",
        "\n"
      ],
      "metadata": {
        "id": "vAFvuQCeR7zg"
      },
      "execution_count": null,
      "outputs": []
    },
    {
      "cell_type": "code",
      "source": [
        "df = pd.read_csv(\"/content/car data.csv\")\n",
        "print(df)"
      ],
      "metadata": {
        "colab": {
          "base_uri": "https://localhost:8080/"
        },
        "id": "hzcUx6_V3HgZ",
        "outputId": "67b84ab4-4782-4e69-c80a-a8fd995b05ff"
      },
      "execution_count": null,
      "outputs": [
        {
          "output_type": "stream",
          "name": "stdout",
          "text": [
            "    Car_Name  Year  Selling_Price  Present_Price  Kms_Driven Fuel_Type  \\\n",
            "0       ritz  2014           3.35           5.59       27000    Petrol   \n",
            "1        sx4  2013           4.75           9.54       43000    Diesel   \n",
            "2       ciaz  2017           7.25           9.85        6900    Petrol   \n",
            "3    wagon r  2011           2.85           4.15        5200    Petrol   \n",
            "4      swift  2014           4.60           6.87       42450    Diesel   \n",
            "..       ...   ...            ...            ...         ...       ...   \n",
            "296     city  2016           9.50          11.60       33988    Diesel   \n",
            "297     brio  2015           4.00           5.90       60000    Petrol   \n",
            "298     city  2009           3.35          11.00       87934    Petrol   \n",
            "299     city  2017          11.50          12.50        9000    Diesel   \n",
            "300     brio  2016           5.30           5.90        5464    Petrol   \n",
            "\n",
            "    Seller_Type Transmission  Owner  \n",
            "0        Dealer       Manual      0  \n",
            "1        Dealer       Manual      0  \n",
            "2        Dealer       Manual      0  \n",
            "3        Dealer       Manual      0  \n",
            "4        Dealer       Manual      0  \n",
            "..          ...          ...    ...  \n",
            "296      Dealer       Manual      0  \n",
            "297      Dealer       Manual      0  \n",
            "298      Dealer       Manual      0  \n",
            "299      Dealer       Manual      0  \n",
            "300      Dealer       Manual      0  \n",
            "\n",
            "[301 rows x 9 columns]\n"
          ]
        }
      ]
    },
    {
      "cell_type": "code",
      "source": [
        "x_of_df = df.drop(['Car_Name','Selling_Price'],axis=1)\n",
        "y_of_df= df['Selling_Price']"
      ],
      "metadata": {
        "id": "wGM4AD-j4XGv"
      },
      "execution_count": null,
      "outputs": []
    },
    {
      "cell_type": "code",
      "source": [
        "print(np.unique(x_of_df['Fuel_Type']))\n",
        "print(np.unique(x_of_df['Seller_Type']))\n",
        "print(np.unique(x_of_df['Transmission']))"
      ],
      "metadata": {
        "colab": {
          "base_uri": "https://localhost:8080/"
        },
        "id": "cc8phVABH-dG",
        "outputId": "e3494624-c596-4fe6-a21d-5a20110a0ccf"
      },
      "execution_count": null,
      "outputs": [
        {
          "output_type": "stream",
          "name": "stdout",
          "text": [
            "['CNG' 'Diesel' 'Petrol']\n",
            "['Dealer' 'Individual']\n",
            "['Automatic' 'Manual']\n"
          ]
        }
      ]
    },
    {
      "cell_type": "code",
      "source": [
        "x_of_df = pd.get_dummies(x_of_df,columns=['Fuel_Type','Seller_Type','Transmission'],drop_first=True)\n",
        "print(x_of_df)"
      ],
      "metadata": {
        "colab": {
          "base_uri": "https://localhost:8080/"
        },
        "id": "BcG8Wct5X2zQ",
        "outputId": "bba1f85e-6170-4e8d-f2fc-cf013acfe016"
      },
      "execution_count": null,
      "outputs": [
        {
          "output_type": "stream",
          "name": "stdout",
          "text": [
            "     Year  Present_Price  Kms_Driven  Owner  Fuel_Type_Diesel  \\\n",
            "0    2014           5.59       27000      0                 0   \n",
            "1    2013           9.54       43000      0                 1   \n",
            "2    2017           9.85        6900      0                 0   \n",
            "3    2011           4.15        5200      0                 0   \n",
            "4    2014           6.87       42450      0                 1   \n",
            "..    ...            ...         ...    ...               ...   \n",
            "296  2016          11.60       33988      0                 1   \n",
            "297  2015           5.90       60000      0                 0   \n",
            "298  2009          11.00       87934      0                 0   \n",
            "299  2017          12.50        9000      0                 1   \n",
            "300  2016           5.90        5464      0                 0   \n",
            "\n",
            "     Fuel_Type_Petrol  Seller_Type_Individual  Transmission_Manual  \n",
            "0                   1                       0                    1  \n",
            "1                   0                       0                    1  \n",
            "2                   1                       0                    1  \n",
            "3                   1                       0                    1  \n",
            "4                   0                       0                    1  \n",
            "..                ...                     ...                  ...  \n",
            "296                 0                       0                    1  \n",
            "297                 1                       0                    1  \n",
            "298                 1                       0                    1  \n",
            "299                 0                       0                    1  \n",
            "300                 1                       0                    1  \n",
            "\n",
            "[301 rows x 8 columns]\n"
          ]
        }
      ]
    },
    {
      "cell_type": "code",
      "source": [
        "print(x_of_df.describe)"
      ],
      "metadata": {
        "colab": {
          "base_uri": "https://localhost:8080/"
        },
        "id": "pQ8bQWlfYhTQ",
        "outputId": "66c63042-acc0-49d0-e035-5f72028b950a"
      },
      "execution_count": null,
      "outputs": [
        {
          "output_type": "stream",
          "name": "stdout",
          "text": [
            "<bound method NDFrame.describe of      Year  Present_Price  Kms_Driven  Owner  Fuel_Type_Diesel  \\\n",
            "0    2014           5.59       27000      0                 0   \n",
            "1    2013           9.54       43000      0                 1   \n",
            "2    2017           9.85        6900      0                 0   \n",
            "3    2011           4.15        5200      0                 0   \n",
            "4    2014           6.87       42450      0                 1   \n",
            "..    ...            ...         ...    ...               ...   \n",
            "296  2016          11.60       33988      0                 1   \n",
            "297  2015           5.90       60000      0                 0   \n",
            "298  2009          11.00       87934      0                 0   \n",
            "299  2017          12.50        9000      0                 1   \n",
            "300  2016           5.90        5464      0                 0   \n",
            "\n",
            "     Fuel_Type_Petrol  Seller_Type_Individual  Transmission_Manual  \n",
            "0                   1                       0                    1  \n",
            "1                   0                       0                    1  \n",
            "2                   1                       0                    1  \n",
            "3                   1                       0                    1  \n",
            "4                   0                       0                    1  \n",
            "..                ...                     ...                  ...  \n",
            "296                 0                       0                    1  \n",
            "297                 1                       0                    1  \n",
            "298                 1                       0                    1  \n",
            "299                 0                       0                    1  \n",
            "300                 1                       0                    1  \n",
            "\n",
            "[301 rows x 8 columns]>\n"
          ]
        }
      ]
    },
    {
      "cell_type": "code",
      "source": [
        "x_train, x_test, y_train, y_test = train_test_split(x_of_df,y_of_df,test_size=0.3,random_state=10)\n"
      ],
      "metadata": {
        "id": "taidzKG5KdIK"
      },
      "execution_count": null,
      "outputs": []
    },
    {
      "cell_type": "code",
      "source": [
        "for col in x_train.columns:\n",
        "  x_test[col]=(x_test[col] - x_train[col].min()) / (x_train[col].max()- x_train[col].min())\n",
        "  x_train[col]=(x_train[col] - x_train[col].min()) / (x_train[col].max()- x_train[col].min())"
      ],
      "metadata": {
        "id": "hfW-dqgggM3R"
      },
      "execution_count": null,
      "outputs": []
    },
    {
      "cell_type": "code",
      "source": [
        "theta = lasso(0.1,1000,x_train.to_numpy(),y_train.to_numpy(),0.1)\n",
        "\n",
        "y_pred = predict(x_test.to_numpy(),theta)\n",
        "\n",
        "print(\"Lasso using mine \"+str(mean_squared_error(y_test.to_numpy(), y_pred)))\n",
        "y_pred_lasso = np.copy(y_pred)"
      ],
      "metadata": {
        "colab": {
          "base_uri": "https://localhost:8080/"
        },
        "id": "Pn10teBoMF9m",
        "outputId": "f6018004-1f7a-4a64-8267-5e410547ece9"
      },
      "execution_count": null,
      "outputs": [
        {
          "output_type": "stream",
          "name": "stdout",
          "text": [
            "Lasso using mine 5.811711079457631\n"
          ]
        }
      ]
    },
    {
      "cell_type": "code",
      "source": [
        "model = linear_model.Lasso(alpha=0.1)\n",
        "model.fit(x_train.to_numpy(),y_train.to_numpy())\n",
        "y_pred = model.predict(x_test.to_numpy())\n",
        "print(\"Lasso using sklearn \"+str(mean_squared_error(y_test.to_numpy(), y_pred)))\n"
      ],
      "metadata": {
        "colab": {
          "base_uri": "https://localhost:8080/"
        },
        "id": "aDMueGJPfv-C",
        "outputId": "5ecf7f17-b34e-4d4c-fba0-3c507f93993c"
      },
      "execution_count": null,
      "outputs": [
        {
          "output_type": "stream",
          "name": "stdout",
          "text": [
            "Lasso using sklearn 5.474373196656663\n"
          ]
        }
      ]
    },
    {
      "cell_type": "code",
      "source": [
        "# Use the Ridge Regression algorithm to find the optimal value of the parameter theta\n",
        "# (regularization strength) with lambda = 0.1 and max_iterations = 1000, and training data\n",
        "# (x_train and y_train) as inputs.\n",
        "theta = ridge(0.1, 1000, x_train.to_numpy(), y_train.to_numpy(), 1)\n",
        "\n",
        "# Use the predicted theta to predict y values for the test data (x_test).\n",
        "y_pred = predict(x_test.to_numpy(), theta)\n",
        "\n",
        "# Calculate the mean squared error between the predicted y values and the actual y values\n",
        "# for the test data, and print the result.\n",
        "mse = mean_squared_error(y_test.to_numpy(), y_pred)\n",
        "print(\"Ridge using mine \" + str(mse))\n",
        "\n",
        "# Create a copy of the predicted y values for later use.\n",
        "y_pred_ridge = np.copy(y_pred)\n",
        "\n",
        "# Use the Ridge Regression algorithm provided by scikit-learn to fit the training data\n",
        "# (x_train and y_train) and predict y values for the test data (x_test).\n",
        "model = linear_model.Ridge(alpha=1)\n",
        "model.fit(x_train.to_numpy(), y_train.to_numpy())\n",
        "y_pred = model.predict(x_test.to_numpy())\n",
        "\n",
        "# Calculate the mean squared error between the predicted y values and the actual y values\n",
        "# for the test data, and print the result.\n",
        "mse = mean_squared_error(y_test.to_numpy(), y_pred)\n",
        "print(\"Ridge using sklearn \" + str(mse))\n"
      ],
      "metadata": {
        "colab": {
          "base_uri": "https://localhost:8080/"
        },
        "id": "YO6ugqwqxBr5",
        "outputId": "3050b5fc-8d70-4014-f21c-60589fe053bd"
      },
      "execution_count": null,
      "outputs": [
        {
          "output_type": "stream",
          "name": "stdout",
          "text": [
            "Ridge using mine 4.445190494786607\n",
            "Ridge using sklearn 5.246760022984059\n"
          ]
        }
      ]
    },
    {
      "cell_type": "code",
      "source": [
        "y_pred = lin_wt_reg(x_test.to_numpy(),x_train.to_numpy(),y_train.to_numpy(),0.1)\n",
        "print(\"Linearly weighted linear regression using mine \"+str(mean_squared_error(y_test.to_numpy(), y_pred)))\n",
        "y_pred_lin = np.copy(y_pred)"
      ],
      "metadata": {
        "colab": {
          "base_uri": "https://localhost:8080/"
        },
        "id": "vybRcT8B-EbF",
        "outputId": "e707908a-4f7c-43d8-a04e-fadf7c23cec8"
      },
      "execution_count": null,
      "outputs": [
        {
          "output_type": "stream",
          "name": "stdout",
          "text": [
            "Linearly weighted linear regression using mine 0.8934388206360796\n"
          ]
        }
      ]
    },
    {
      "cell_type": "code",
      "source": [
        "# Create a Decision Tree Regressor object with max_depth = 5 and min_samples_split = 10\n",
        "decisionTreeRegressor = DTReg(5, 10)\n",
        "\n",
        "# Fit the Decision Tree Regressor to the training data (x_train and y_train)\n",
        "decisionTreeRegressor.fit(x_train, y_train)\n",
        "\n",
        "# Use the Decision Tree Regressor to predict y values for the test data (x_test)\n",
        "y_pred = decisionTreeRegressor.predict(x_test)\n",
        "\n",
        "# Calculate the mean squared error between the predicted y values and the actual y values\n",
        "# for the test data, and print the result.\n",
        "mse = mean_squared_error(y_test.to_numpy(), y_pred)\n",
        "print(\"Decision Tree Regression using mine \" + str(mse))\n",
        "\n",
        "# Create a copy of the predicted y values for later use.\n",
        "y_pred_dtreg = np.copy(y_pred)\n"
      ],
      "metadata": {
        "id": "v2VcnNRU4d_q",
        "colab": {
          "base_uri": "https://localhost:8080/"
        },
        "outputId": "48caf88c-144b-404a-c7b0-3fd23fafb33a"
      },
      "execution_count": null,
      "outputs": [
        {
          "output_type": "stream",
          "name": "stdout",
          "text": [
            "Decision Tree Regression using mine 3.0065068524820844\n"
          ]
        }
      ]
    },
    {
      "cell_type": "code",
      "source": [
        "\n",
        "# Use the KNN algorithm to predict y values for the given test data\n",
        "\n",
        "# knn() is assumed to be a function that takes in the number of neighbors (k),\n",
        "# the training data (x_train and y_train), and the test data (x_test) as inputs,\n",
        "# and returns the predicted y values for the test data.\n",
        "y_pred = knn(5, x_train.copy(), y_train.to_numpy(), x_test.to_numpy())\n",
        "\n",
        "# Calculate the mean squared error between the predicted y values and the actual y values\n",
        "# for the test data, and print the result.\n",
        "mse = mean_squared_error(y_test.to_numpy(), y_pred)\n",
        "print(\"KNN \" + str(mse))\n",
        "\n",
        "# Create a copy of the predicted y values for later use.\n",
        "y_pred_knn = np.copy(y_pred)\n"
      ],
      "metadata": {
        "colab": {
          "base_uri": "https://localhost:8080/"
        },
        "id": "JS8UGwp9UwFF",
        "outputId": "6b794372-c5ab-427b-a245-c9950806a126"
      },
      "execution_count": null,
      "outputs": [
        {
          "output_type": "stream",
          "name": "stdout",
          "text": [
            "KNN 2.8295110329670328\n"
          ]
        }
      ]
    },
    {
      "cell_type": "code",
      "source": [
        "\n",
        "# Initialize an empty list for the final predictions\n",
        "final_y_pred = []\n",
        "\n",
        "# Loop through each row in x_test\n",
        "for i in range(len(x_test)):\n",
        "  # Compute the ensemble prediction as the average of the individual model predictions\n",
        "  temp = y_pred_lasso[i][0] + y_pred_ridge[i][0] + y_pred_lin[i] + y_pred_dtreg[i] + y_pred_knn[i]\n",
        "  temp = temp / 5\n",
        "  \n",
        "  # Add the ensemble prediction to the final predictions list\n",
        "  final_y_pred.append(temp)\n",
        "\n",
        "# Convert the final predictions list to a NumPy array\n",
        "final_y_pred = np.array(final_y_pred)\n",
        "\n",
        "# Compute and print the mean squared error of the final predictions\n",
        "print(\"Ensemble based error \" + str(mean_squared_error(y_test.to_numpy(), final_y_pred)))\n"
      ],
      "metadata": {
        "id": "n2w6qoCqjfba",
        "colab": {
          "base_uri": "https://localhost:8080/"
        },
        "outputId": "ae526f5a-c678-45c5-8b22-9229fbeb4d05"
      },
      "execution_count": null,
      "outputs": [
        {
          "output_type": "stream",
          "name": "stdout",
          "text": [
            "Ensemble based error 1.993506054697617\n"
          ]
        }
      ]
    },
    {
      "cell_type": "code",
      "source": [],
      "metadata": {
        "id": "GEngbmgO5NVX"
      },
      "execution_count": null,
      "outputs": []
    },
    {
      "cell_type": "code",
      "source": [],
      "metadata": {
        "id": "Tf5SUdrvZ5yn"
      },
      "execution_count": null,
      "outputs": []
    },
    {
      "cell_type": "markdown",
      "source": [
        "##A-4 [P ∥ CO2] Decision Trees (26 points)\n",
        "Apply decision tree classifier (allowed to use the in-built library functions) on the bank marketing dataset4\n",
        ".\n",
        "Use four different decision tree algorithms: ID3, C4.5, C5.0, and CART. You are free to choose any library.\n",
        "For each algorithm, take the complexity parameter as a hyperparameter, and perform a grid search (from\n",
        "scratch) for at least 10 different values of the complexity parameter to find its optimal value. Prepare a table\n",
        "representing train accuracy and testing accuracy for each value of the complexity parameter. Now, replicate\n",
        "the above table using the sklearn Decision Tree Classifier’s ‘cost complexity pruning path’ function. Draw\n",
        "inferences on the results obtained with Comments on the (1) different algorithms used and (2) the deviations\n",
        "between the results from your implementation and the inbuilt function."
      ],
      "metadata": {
        "id": "v59R60sTxfMu"
      }
    },
    {
      "cell_type": "code",
      "source": [
        "\n",
        "df = pd.read_csv('/content/bank-full.csv',sep=';')\n",
        "print(df)"
      ],
      "metadata": {
        "colab": {
          "base_uri": "https://localhost:8080/"
        },
        "id": "3Hms0a_EV6k_",
        "outputId": "f8480084-364b-47fe-9bd3-11fdcbe15ddd"
      },
      "execution_count": null,
      "outputs": [
        {
          "output_type": "stream",
          "name": "stdout",
          "text": [
            "       age           job   marital  education default  balance housing loan  \\\n",
            "0       58    management   married   tertiary      no     2143     yes   no   \n",
            "1       44    technician    single  secondary      no       29     yes   no   \n",
            "2       33  entrepreneur   married  secondary      no        2     yes  yes   \n",
            "3       47   blue-collar   married    unknown      no     1506     yes   no   \n",
            "4       33       unknown    single    unknown      no        1      no   no   \n",
            "...    ...           ...       ...        ...     ...      ...     ...  ...   \n",
            "45206   51    technician   married   tertiary      no      825      no   no   \n",
            "45207   71       retired  divorced    primary      no     1729      no   no   \n",
            "45208   72       retired   married  secondary      no     5715      no   no   \n",
            "45209   57   blue-collar   married  secondary      no      668      no   no   \n",
            "45210   37  entrepreneur   married  secondary      no     2971      no   no   \n",
            "\n",
            "         contact  day month  duration  campaign  pdays  previous poutcome    y  \n",
            "0        unknown    5   may       261         1     -1         0  unknown   no  \n",
            "1        unknown    5   may       151         1     -1         0  unknown   no  \n",
            "2        unknown    5   may        76         1     -1         0  unknown   no  \n",
            "3        unknown    5   may        92         1     -1         0  unknown   no  \n",
            "4        unknown    5   may       198         1     -1         0  unknown   no  \n",
            "...          ...  ...   ...       ...       ...    ...       ...      ...  ...  \n",
            "45206   cellular   17   nov       977         3     -1         0  unknown  yes  \n",
            "45207   cellular   17   nov       456         2     -1         0  unknown  yes  \n",
            "45208   cellular   17   nov      1127         5    184         3  success  yes  \n",
            "45209  telephone   17   nov       508         4     -1         0  unknown   no  \n",
            "45210   cellular   17   nov       361         2    188        11    other   no  \n",
            "\n",
            "[45211 rows x 17 columns]\n"
          ]
        }
      ]
    },
    {
      "cell_type": "code",
      "source": [
        "x_of_df = df.drop(['y'],axis=1)\n",
        "y_of_df= df['y']"
      ],
      "metadata": {
        "id": "7aXTjNwL-Sgj"
      },
      "execution_count": null,
      "outputs": []
    },
    {
      "cell_type": "code",
      "source": [
        "print(np.unique(y_of_df.to_numpy()))\n"
      ],
      "metadata": {
        "colab": {
          "base_uri": "https://localhost:8080/"
        },
        "id": "lKJF7aiucv8a",
        "outputId": "5d5ad4da-a32d-4937-c947-273ebb4fc0ea"
      },
      "execution_count": null,
      "outputs": [
        {
          "output_type": "stream",
          "name": "stdout",
          "text": [
            "['no' 'yes']\n"
          ]
        }
      ]
    },
    {
      "cell_type": "code",
      "source": [
        "# Define a list of categorical columns\n",
        "cat_col = ['job', 'marital', 'education', 'default', 'housing', 'loan', 'contact', 'month', 'poutcome']\n",
        "\n",
        "# Use pd.get_dummies() to create dummy variables for categorical columns\n",
        "x_of_df = pd.get_dummies(x_of_df, columns=cat_col, drop_first=True)\n"
      ],
      "metadata": {
        "id": "KpENKvSab-J3"
      },
      "execution_count": null,
      "outputs": []
    },
    {
      "cell_type": "code",
      "source": [
        "x_train, x_test, y_train, y_test = train_test_split(x_of_df,y_of_df,test_size=0.3,random_state=10)"
      ],
      "metadata": {
        "id": "PEGZyZeNcC6C"
      },
      "execution_count": null,
      "outputs": []
    },
    {
      "cell_type": "code",
      "source": [
        "# Loop through all columns in x_train\n",
        "for col in x_train.columns:\n",
        "  # Compute the minimum and maximum values in the current column\n",
        "  col_min = x_train[col].min()\n",
        "  col_max = x_train[col].max()\n",
        "  \n",
        "  # Normalize the corresponding column in x_test\n",
        "  x_test[col] = (x_test[col] - col_min) / (col_max - col_min)\n",
        "  \n",
        "  # Normalize the corresponding column in x_train\n",
        "  x_train[col] = (x_train[col] - col_min) / (col_max - col_min)\n"
      ],
      "metadata": {
        "id": "vlIcqZAm-hN3"
      },
      "execution_count": null,
      "outputs": []
    },
    {
      "cell_type": "code",
      "source": [
        "# Create a list of even numbers from 2 to 24, incrementing by 2\n",
        "ccps = [i for i in range(2, 24, 2)]\n",
        "\n",
        "# Convert the list to a NumPy array\n",
        "ccps = np.array(ccps)\n",
        "\n",
        "# Multiply each element of the array by 0.001\n",
        "ccps = ccps * 0.001\n",
        "\n",
        "# Print the resulting array and its length\n",
        "print(ccps)\n",
        "print(len(ccps))\n"
      ],
      "metadata": {
        "id": "5_zhJY7Y_Ny2",
        "colab": {
          "base_uri": "https://localhost:8080/"
        },
        "outputId": "2231d839-d693-4daf-9b4a-f537104d4ba0"
      },
      "execution_count": null,
      "outputs": [
        {
          "output_type": "stream",
          "name": "stdout",
          "text": [
            "[0.002 0.004 0.006 0.008 0.01  0.012 0.014 0.016 0.018 0.02  0.022]\n",
            "11\n"
          ]
        }
      ]
    },
    {
      "cell_type": "code",
      "source": [
        "# Import necessary libraries\n",
        "from sklearn.tree import DecisionTreeClassifier\n",
        "from sklearn.metrics import accuracy_score\n",
        "import pandas as pd\n",
        "\n",
        "# Set a range of ccp alphas\n",
        "ccps = [0.001, 0.002, 0.003, 0.004, 0.005, 0.006, 0.007, 0.008, 0.009, 0.01]\n",
        "\n",
        "# Create an empty list to store train and test accuracies for each ccp alpha\n",
        "train_acc = []\n",
        "test_acc = []\n",
        "\n",
        "# Initialize variables to keep track of the best test accuracy and its corresponding ccp alpha index\n",
        "max_test_acc = 0\n",
        "index_max_test_acc = 0\n",
        "\n",
        "# Train and test the C4.5 decision tree classifier for each ccp alpha value\n",
        "for i in range(len(ccps)):\n",
        "  # Create a C4.5 decision tree classifier with the current ccp alpha value\n",
        "  model = DecisionTreeClassifier(ccp_alpha=ccps[i], criterion='entropy')\n",
        "  \n",
        "  # Train the model on the training data\n",
        "  model = model.fit(x_train, y_train)\n",
        "  \n",
        "  # Predict the target values of the training data\n",
        "  y_pred_train = model.predict(x_train)\n",
        "  \n",
        "  # Calculate the accuracy of the model on the training data\n",
        "  temp_train_acc = accuracy_score(y_train, y_pred_train)\n",
        "  \n",
        "  # Append the training accuracy to the list of train accuracies\n",
        "  train_acc.append(temp_train_acc)\n",
        "  \n",
        "  # Predict the target values of the test data\n",
        "  y_pred_test = model.predict(x_test)\n",
        "  \n",
        "  # Calculate the accuracy of the model on the test data\n",
        "  temp_test_acc = accuracy_score(y_test, y_pred_test)\n",
        "  \n",
        "  # Append the test accuracy to the list of test accuracies\n",
        "  test_acc.append(temp_test_acc)\n",
        "  \n",
        "  # Update the variables for the best test accuracy and its corresponding ccp alpha index\n",
        "  if temp_test_acc > max_test_acc:\n",
        "    max_test_acc = temp_test_acc\n",
        "    index_max_test_acc = i\n",
        "\n",
        "# Print the best accuracies and their corresponding ccp alpha values\n",
        "print(\"Best Accuracies with ccp_alpha \" + str(ccps[index_max_test_acc]))\n",
        "print(\"Accuracy of C4.5 decision tree classifier \")\n",
        "\n",
        "# Create a dictionary of ccp alphas, train accuracies, and test accuracies\n",
        "results_dict = {'CCPs': ccps, 'Train Accuracy': train_acc, 'Test Accuracy': test_acc}\n",
        "\n",
        "# Convert the dictionary to a pandas dataframe and print it\n",
        "df = pd.DataFrame(results_dict)\n",
        "print(df)\n",
        "\n",
        "# Import necessary libraries\n",
        "from sklearn.tree import DecisionTreeClassifier\n",
        "from sklearn.metrics import accuracy_score\n",
        "import pandas as pd\n",
        "\n",
        "# Create a new C4.5 decision tree classifier with random splitter and get the cost complexity pruning path for the training data\n",
        "model = DecisionTreeClassifier(criterion='entropy', splitter='random')\n",
        "cost = model.cost_complexity_pruning_path(x_train, y_train)\n",
        "\n",
        "# Get the ccp alphas from the cost complexity pruning path\n",
        "alpha = cost.ccp_alphas\n",
        "\n",
        "# Create an empty list to store train and test accuracies for each ccp alpha\n",
        "train_acc = []\n",
        "test_acc = []\n",
        "\n",
        "# Initialize variables to keep track of the best test accuracy and its corresponding ccp alpha index\n",
        "max_test_acc = 0\n",
        "index_max_test_acc = 0\n",
        "\n",
        "# Train and test the ID3 decision tree classifier with ccp for each alpha value\n",
        "for i in range(len(alpha)):\n",
        "  # Create an ID3 decision tree classifier with the current ccp alpha value and random splitter\n",
        "  model = DecisionTreeClassifier(ccp_alpha=alpha[i], criterion='entropy', splitter\n"
      ],
      "metadata": {
        "id": "VzSq5UTxdX8S",
        "colab": {
          "base_uri": "https://localhost:8080/"
        },
        "outputId": "efa1ceb2-6ac6-4961-8469-8ef69153a7f7"
      },
      "execution_count": null,
      "outputs": [
        {
          "output_type": "stream",
          "name": "stdout",
          "text": [
            "Best Accuracies with ccp_alpha 0.01\n",
            "Accuracy of id3 decision tree classifier \n",
            "     CCPs  Train Accuracy  Test Accuracy\n",
            "0   0.002        0.896515       0.898113\n",
            "1   0.004        0.894145       0.895459\n",
            "2   0.006        0.892154       0.894500\n",
            "3   0.008        0.889563       0.892288\n",
            "4   0.010        0.896420       0.900103\n",
            "5   0.012        0.892154       0.894500\n",
            "6   0.014        0.896641       0.897818\n",
            "7   0.016        0.892154       0.894500\n",
            "8   0.018        0.892154       0.894500\n",
            "9   0.020        0.895409       0.898408\n",
            "10  0.022        0.892154       0.894500\n"
          ]
        }
      ]
    },
    {
      "cell_type": "code",
      "source": [
        "# Import the necessary libraries\n",
        "from sklearn.tree import DecisionTreeClassifier\n",
        "from sklearn.metrics import accuracy_score\n",
        "import pandas as pd\n",
        "\n",
        "# Create an instance of the DecisionTreeClassifier with the entropy criterion and random splitter\n",
        "model = DecisionTreeClassifier(criterion='entropy', splitter='random')\n",
        "\n",
        "# Compute the cost complexity pruning path of the decision tree using the training data set\n",
        "cost = model.cost_complexity_pruning_path(x_train, y_train)\n",
        "\n",
        "# Extract the ccp_alpha values from the cost complexity pruning path\n",
        "alpha = cost.ccp_alphas\n",
        "\n",
        "# Create empty lists to store the accuracy scores for the training and testing data sets\n",
        "train_cart_model_acc = []\n",
        "test_cart_model_acc = []\n",
        "\n",
        "# Initialize variables to keep track of the best accuracy and the corresponding ccp_alpha value\n",
        "max_cart_model_acc = 0\n",
        "index_cart_model_acc = 0\n",
        "\n",
        "# Iterate over the ccp_alpha values and train a decision tree classifier for each one\n",
        "for i in range(len(alpha)):\n",
        "  # Create an instance of the DecisionTreeClassifier with the current ccp_alpha value, the entropy criterion, and the random splitter\n",
        "  model = DecisionTreeClassifier(ccp_alpha=alpha[i], criterion='entropy', splitter='random')\n",
        "  model.fit(x_train, y_train)\n",
        "  \n",
        "  # Use the trained model to make predictions on the training and testing data sets and calculate the accuracy scores\n",
        "  y_pred_train = model.predict(x_train)\n",
        "  train_acc = accuracy_score(y_train, y_pred_train)\n",
        "  train_cart_model_acc.append(train_acc)\n",
        "  \n",
        "  y_pred_test = model.predict(x_test)\n",
        "  test_acc = accuracy_score(y_test, y_pred_test)\n",
        "  test_cart_model_acc.append(test_acc)\n",
        "  \n",
        "  # Update the best accuracy and the corresponding ccp_alpha value if a higher accuracy is obtained\n",
        "  if test_acc > max_cart_model_acc:\n",
        "    max_cart_model_acc = test_acc\n",
        "    index_cart_model_acc = i\n",
        "\n",
        "# Print the best accuracy and the corresponding ccp_alpha value\n",
        "print(\"Best accuracy with ccp_alpha \" + str(alpha[index_cart_model_acc]))\n",
        "\n",
        "# Create a pandas dataframe to store the accuracy scores for each ccp_alpha value on both the training and testing data sets\n",
        "data = {'Alphas': alpha, 'Train Accuracy': train_cart_model_acc, 'Test Accuracy': test_cart_model_acc}\n",
        "df = pd.DataFrame(data)\n",
        "print(df)\n"
      ],
      "metadata": {
        "id": "4E01ttHeWKNA",
        "colab": {
          "base_uri": "https://localhost:8080/"
        },
        "outputId": "0eac7af7-077d-4334-c266-1b0807608a70"
      },
      "execution_count": null,
      "outputs": [
        {
          "output_type": "stream",
          "name": "stdout",
          "text": [
            "Best Accuracies with ccp_alpha 0.00017475505986186857\n",
            "Accuracy of id3 decision tree classifier with ccp\n",
            "        Alphas  Train Accuracy  Test Accuracy\n",
            "0     0.000000        1.000000       0.880566\n",
            "1     0.000033        1.000000       0.878281\n",
            "2     0.000034        0.999937       0.881009\n",
            "3     0.000036        0.999937       0.877765\n",
            "4     0.000037        0.999937       0.877617\n",
            "...        ...             ...            ...\n",
            "1253  0.006149        0.895282       0.895753\n",
            "1254  0.006849        0.894271       0.895827\n",
            "1255  0.010310        0.896989       0.898702\n",
            "1256  0.026160        0.892154       0.894500\n",
            "1257  0.040380        0.882106       0.885137\n",
            "\n",
            "[1258 rows x 3 columns]\n"
          ]
        }
      ]
    },
    {
      "cell_type": "code",
      "source": [
        "\n",
        "\n",
        "# Define a list of ccp_alpha values to be used for tuning the decision tree classifier\n",
        "ccps = [0.0001, 0.001, 0.01, 0.1, 1, 10]\n",
        "\n",
        "# Create empty lists to store the accuracy scores for the training and testing data sets\n",
        "train_cart_model_acc = []\n",
        "test_cart_model_acc = []\n",
        "\n",
        "# Initialize variables to keep track of the best accuracy and the corresponding ccp_alpha value\n",
        "max_cart_model_acc = 0\n",
        "index_cart_model_acc = 0\n",
        "\n",
        "# Iterate over the ccp_alpha values and train a decision tree classifier for each one\n",
        "for i in range(len(ccps)):\n",
        "  model = DecisionTreeClassifier(ccp_alpha=ccps[i], criterion='entropy')\n",
        "  model.fit(x_train, y_train)\n",
        "  \n",
        "  # Use the trained model to make predictions on the training and testing data sets and calculate the accuracy scores\n",
        "  y_pred_train = model.predict(x_train)\n",
        "  train_acc = accuracy_score(y_train, y_pred_train)\n",
        "  train_cart_model_acc.append(train_acc)\n",
        "  \n",
        "  y_pred_test = model.predict(x_test)\n",
        "  test_acc = accuracy_score(y_test, y_pred_test)\n",
        "  test_cart_model_acc.append(test_acc)\n",
        "  \n",
        "  # Update the best accuracy and the corresponding ccp_alpha value if a higher accuracy is obtained\n",
        "  if test_acc > max_cart_model_acc:\n",
        "    max_cart_model_acc = test_acc\n",
        "    index_cart_model_acc = i\n",
        "\n",
        "# Print the best accuracy and the corresponding ccp_alpha value\n",
        "print(\"Best accuracy with ccp_alpha \" + str(ccps[index_cart_model_acc]))\n",
        "\n",
        "# Create a pandas dataframe to store the accuracy scores for each ccp_alpha value on both the training and testing data sets\n",
        "data = {'CCP Alphas': ccps, 'Train Accuracy': train_cart_model_acc, 'Test Accuracy': test_cart_model_acc}\n",
        "df = pd.DataFrame(data)\n",
        "print(df)\n"
      ],
      "metadata": {
        "id": "0NxPZeO2dZMT",
        "colab": {
          "base_uri": "https://localhost:8080/"
        },
        "outputId": "cae78264-f7de-4041-8af7-52fd8e0a41d0"
      },
      "execution_count": null,
      "outputs": [
        {
          "output_type": "stream",
          "name": "stdout",
          "text": [
            "Best Accuracies with ccp_alpha 0.002\n",
            "Accuracy of c4.5 decision tree classifier \n",
            "     CCPs  Train Accuracy  Test Accuracy\n",
            "0   0.002        0.895883       0.897449\n",
            "1   0.004        0.892154       0.894648\n",
            "2   0.006        0.889595       0.891772\n",
            "3   0.008        0.889595       0.891772\n",
            "4   0.010        0.887699       0.890003\n",
            "5   0.012        0.887699       0.890003\n",
            "6   0.014        0.887699       0.890003\n",
            "7   0.016        0.887699       0.890003\n",
            "8   0.018        0.887699       0.890003\n",
            "9   0.020        0.887699       0.890003\n",
            "10  0.022        0.887699       0.890003\n"
          ]
        }
      ]
    },
    {
      "cell_type": "code",
      "source": [
        "\n",
        "# Initialize a decision tree classifier with entropy criterion\n",
        "model = DecisionTreeClassifier(criterion='entropy')\n",
        "\n",
        "# Compute the cost complexity pruning path for the decision tree using the training data\n",
        "cost = model.cost_complexity_pruning_path(x_train, y_train)\n",
        "\n",
        "# Extract the ccp_alpha values from the computed pruning path\n",
        "alpha = cost.ccp_alphas\n",
        "\n",
        "# Initialize lists to store train and test accuracies\n",
        "train_cart_model_acc = []\n",
        "test_cart_model_acc = []\n",
        "\n",
        "# Initialize variables to keep track of the highest test accuracy and the index at which it occurs\n",
        "max_cart_model_acc = 0\n",
        "index_cart_model_acc = 0\n",
        "\n",
        "# Loop through each ccp_alpha value and train a c4.5 decision tree classifier\n",
        "for i in range(len(alpha)):\n",
        "    # Initialize the decision tree classifier with the current ccp_alpha value and entropy criterion\n",
        "    model = DecisionTreeClassifier(ccp_alpha=alpha[i], criterion='entropy')\n",
        "    \n",
        "    # Fit the model on the training data\n",
        "    model = model.fit(x_train, y_train)\n",
        "    \n",
        "    # Predict the training data and calculate the accuracy\n",
        "    y_pred_train = model.predict(x_train)\n",
        "    train_acc = accuracy_score(y_train, y_pred_train)\n",
        "    train_cart_model_acc.append(train_acc)\n",
        "    \n",
        "    # Predict the test data and calculate the accuracy\n",
        "    y_pred_test = model.predict(x_test)\n",
        "    test_acc = accuracy_score(y_test, y_pred_test)\n",
        "    test_cart_model_acc.append(test_acc)\n",
        "    \n",
        "    # Keep track of the highest test accuracy and the index at which it occurs\n",
        "    if test_acc > max_cart_model_acc:\n",
        "        max_cart_model_acc = test_acc\n",
        "        index_cart_model_acc = i\n",
        "\n",
        "# Print the ccp_alpha value that achieved the highest test accuracy\n",
        "print(\"Best Accuracies with ccp_alpha \" + str(alpha[index_cart_model_acc]))\n",
        "\n",
        "# Print the train and test accuracies for each ccp_alpha value\n",
        "print(\"Accuracy of c4.5 decision tree classifier with ccp\")\n",
        "dic = {'Alphas': alpha, 'Train Accuracy': train_cart_model_acc, 'Test Accuracy': test_cart_model_acc}\n",
        "df = pd.DataFrame(dic)\n",
        "print(df)\n"
      ],
      "metadata": {
        "id": "nufuGu18WLBM",
        "colab": {
          "base_uri": "https://localhost:8080/"
        },
        "outputId": "707f4046-f798-4366-962b-ee91e4623d1a"
      },
      "execution_count": null,
      "outputs": [
        {
          "output_type": "stream",
          "name": "stdout",
          "text": [
            "Best Accuracies with ccp_alpha 0.00021734536713245662\n",
            "Accuracy of c4.5 decision tree classifier with ccp\n",
            "        Alphas  Train Accuracy  Test Accuracy\n",
            "0     0.000000        1.000000       0.878723\n",
            "1     0.000044        0.999968       0.879092\n",
            "2     0.000049        0.999968       0.877765\n",
            "3     0.000057        0.999937       0.877838\n",
            "4     0.000062        0.999494       0.879682\n",
            "...        ...             ...            ...\n",
            "1127  0.008541        0.887699       0.890003\n",
            "1128  0.014126        0.887699       0.890003\n",
            "1129  0.014292        0.887699       0.890003\n",
            "1130  0.039946        0.887699       0.890003\n",
            "1131  0.066528        0.882106       0.885137\n",
            "\n",
            "[1132 rows x 3 columns]\n"
          ]
        }
      ]
    },
    {
      "cell_type": "code",
      "source": [
        "# Import required libraries\n",
        "from sklearn.tree import DecisionTreeClassifier\n",
        "from sklearn.metrics import accuracy_score\n",
        "import pandas as pd\n",
        "\n",
        "# Initialize lists to store train and test accuracies\n",
        "train_cart_model_acc = []\n",
        "test_cart_model_acc = []\n",
        "\n",
        "# Initialize variables to keep track of the highest test accuracy and the index at which it occurs\n",
        "max_cart_model_acc = 0\n",
        "index_cart_model_acc = 0\n",
        "\n",
        "# Define a range of ccp_alpha values to test\n",
        "ccps = [0.001, 0.01, 0.1, 0.2, 0.3]\n",
        "\n",
        "# Loop through each ccp_alpha value and train a c5.0 decision tree classifier\n",
        "for i in range(len(ccps)):\n",
        "    # Initialize the decision tree classifier with the current ccp_alpha value, entropy criterion and minimum leaf samples of 10\n",
        "    model = DecisionTreeClassifier(ccp_alpha=ccps[i], criterion='entropy', min_samples_leaf=10)\n",
        "    \n",
        "    # Fit the model on the training data\n",
        "    model = model.fit(x_train, y_train)\n",
        "    \n",
        "    # Predict the training data and calculate the accuracy\n",
        "    y_pred_train = model.predict(x_train)\n",
        "    train_acc = accuracy_score(y_train, y_pred_train)\n",
        "    train_cart_model_acc.append(train_acc)\n",
        "    \n",
        "    # Predict the test data and calculate the accuracy\n",
        "    y_pred_test = model.predict(x_test)\n",
        "    test_acc = accuracy_score(y_test, y_pred_test)\n",
        "    test_cart_model_acc.append(test_acc)\n",
        "    \n",
        "    # Keep track of the highest test accuracy and the index at which it occurs\n",
        "    if test_acc > max_cart_model_acc:\n",
        "        max_cart_model_acc = test_acc\n",
        "        index_cart_model_acc = i\n",
        "\n",
        "# Print the ccp_alpha value that achieved the highest test accuracy\n",
        "print(\"Best Accuracies with ccp_alpha \"+str(ccps[index_cart_model_acc]))\n",
        "\n",
        "# Print the train and test accuracies for each ccp_alpha value\n",
        "print(\"Accuracy of c5.0 decision tree classifier \")\n",
        "dic = {'CCPs':ccps,'Train Accuracy':train_cart_model_acc,'Test Accuracy':test_cart_model_acc}\n",
        "df = pd.DataFrame(dic)\n",
        "print(df)\n"
      ],
      "metadata": {
        "id": "eCXoA9V3daeg",
        "colab": {
          "base_uri": "https://localhost:8080/"
        },
        "outputId": "15516915-e362-40c8-99f1-7e52fef908cb"
      },
      "execution_count": null,
      "outputs": [
        {
          "output_type": "stream",
          "name": "stdout",
          "text": [
            "Best Accuracies with ccp_alpha 0.002\n",
            "Accuracy of c5.0 decision tree classifier \n",
            "     CCPs  Train Accuracy  Test Accuracy\n",
            "0   0.002        0.895883       0.897449\n",
            "1   0.004        0.892154       0.894648\n",
            "2   0.006        0.889595       0.891772\n",
            "3   0.008        0.889595       0.891772\n",
            "4   0.010        0.887699       0.890003\n",
            "5   0.012        0.887699       0.890003\n",
            "6   0.014        0.887699       0.890003\n",
            "7   0.016        0.887699       0.890003\n",
            "8   0.018        0.887699       0.890003\n",
            "9   0.020        0.887699       0.890003\n",
            "10  0.022        0.887699       0.890003\n"
          ]
        }
      ]
    },
    {
      "cell_type": "code",
      "source": [
        "# Train decision tree models with different ccp_alpha values using the CART algorithm\n",
        "\n",
        "# Initialize empty lists to store the training and testing accuracies for each model\n",
        "train_cart_model_acc = []\n",
        "test_cart_model_acc = []\n",
        "\n",
        "# Initialize variables to keep track of the maximum testing accuracy and the index of the corresponding ccp_alpha value\n",
        "max_cart_model_acc = 0\n",
        "index_cart_model_acc = 0\n",
        "\n",
        "# Loop over each value of ccp_alpha and train a decision tree model with that value\n",
        "for i in range(len(ccps)):\n",
        "  model = DecisionTreeClassifier(ccp_alpha=ccps[i])  # create decision tree model with current ccp_alpha\n",
        "  model = model.fit(x_train,y_train)  # fit the model to the training data\n",
        "  y_pred = model.predict(x_train)  # predict the labels of the training data\n",
        "  temp = accuracy_score(y_train, y_pred)  # compute the training accuracy\n",
        "  train_cart_model_acc.append(temp)  # append the training accuracy to the list of training accuracies\n",
        "  \n",
        "  y_pred = model.predict(x_test)  # predict the labels of the testing data\n",
        "  temp = accuracy_score(y_test, y_pred)  # compute the testing accuracy\n",
        "  test_cart_model_acc.append(temp)  # append the testing accuracy to the list of testing accuracies\n",
        "  \n",
        "  # Update the maximum testing accuracy and the index of the corresponding ccp_alpha value if the current model has a higher testing accuracy\n",
        "  if temp > max_cart_model_acc:\n",
        "    max_cart_model_acc = temp\n",
        "    index_cart_model_acc = i\n",
        "\n",
        "# Print the ccp_alpha value that corresponds to the maximum testing accuracy and the accuracy of the decision tree classifier with that ccp_alpha value\n",
        "print(\"Best Accuracies with ccp_alpha \"+str(ccps[index_cart_model_acc]))\n",
        "print(\"Accuracy of CART decision tree classifier \")\n",
        "\n",
        "# Create a dictionary that maps the ccp_alpha values to their corresponding training and testing accuracies\n",
        "dic = {'CCPS':ccps,'Train Accuracy':train_cart_model_acc,'Test Accuracy':test_cart_model_acc}\n",
        "\n",
        "# Convert the dictionary to a pandas DataFrame and print it\n",
        "df = pd.DataFrame(dic)\n",
        "print(df)\n"
      ],
      "metadata": {
        "id": "HMh7xtoBWLnb",
        "colab": {
          "base_uri": "https://localhost:8080/"
        },
        "outputId": "17d93fa3-eb77-4527-f50b-ccf54ad8ef42"
      },
      "execution_count": null,
      "outputs": [
        {
          "output_type": "stream",
          "name": "stdout",
          "text": [
            "Best Accuracies with ccp_alpha 0.00034184038204611127\n",
            "Accuracy of c5.0 decision tree classifier with ccp \n",
            "       Alphas  Train Accuracy  Test Accuracy\n",
            "0    0.000000        0.933359       0.894795\n",
            "1    0.000000        0.933295       0.895164\n",
            "2    0.000000        0.933295       0.895237\n",
            "3    0.000000        0.933422       0.894869\n",
            "4    0.000000        0.933295       0.895532\n",
            "..        ...             ...            ...\n",
            "605  0.008541        0.887699       0.890003\n",
            "606  0.014126        0.887699       0.890003\n",
            "607  0.014292        0.887699       0.890003\n",
            "608  0.039946        0.882106       0.885137\n",
            "609  0.066528        0.882106       0.885137\n",
            "\n",
            "[610 rows x 3 columns]\n"
          ]
        }
      ]
    },
    {
      "cell_type": "code",
      "source": [
        "# Create an instance of the DecisionTreeClassifier model\n",
        "model=DecisionTreeClassifier()\n",
        "\n",
        "# Compute the cost-complexity pruning path for the model using the training data\n",
        "cost = model.cost_complexity_pruning_path(x_train, y_train)\n",
        "alpha = cost.ccp_alphas\n",
        "\n",
        "# Create empty lists to store training and testing accuracy values for each ccp_alpha value\n",
        "train_cart_model_acc = []\n",
        "test_cart_model_acc = []\n",
        "\n",
        "# Initialize variables to track the maximum accuracy and corresponding index\n",
        "max_cart_model_acc = 0\n",
        "index_cart_model_acc = 0\n",
        "\n",
        "# Iterate over each ccp_alpha value\n",
        "for i in range(len(alpha)):\n",
        "  \n",
        "  # Train a new decision tree model with the current ccp_alpha value\n",
        "  model = DecisionTreeClassifier(ccp_alpha=alpha[i])\n",
        "  model = model.fit(x_train,y_train)\n",
        "  \n",
        "  # Calculate the accuracy of the trained model on the training data and add it to the list of training accuracies\n",
        "  y_pred = model.predict(x_train)\n",
        "  temp = accuracy_score(y_train, y_pred)\n",
        "  train_cart_model_acc.append(temp)\n",
        "  \n",
        "  # Calculate the accuracy of the trained model on the testing data and add it to the list of testing accuracies\n",
        "  y_pred = model.predict(x_test)\n",
        "  temp = accuracy_score(y_test, y_pred)\n",
        "  test_cart_model_acc.append(temp)\n",
        "  \n",
        "  # If the current testing accuracy is greater than the maximum testing accuracy seen so far, update the maximum and corresponding index\n",
        "  if temp > max_cart_model_acc:\n",
        "    max_cart_model_acc = temp\n",
        "    index_cart_model_acc = i\n",
        "\n",
        "# Print the best accuracy obtained and the corresponding ccp_alpha value\n",
        "print(\"Best Accuracies with ccp_alpha \"+str(alpha[index_cart_model_acc]))\n",
        "\n",
        "# Print the training and testing accuracy values for each ccp_alpha value\n",
        "print(\"Accuracy of cart decision tree classifier with ccp\")\n",
        "dic = {'Alphas':alpha,'Train Accuracy':train_cart_model_acc,'Test Accuracy':test_cart_model_acc}\n",
        "df = pd.DataFrame(dic)\n",
        "print(df)\n"
      ],
      "metadata": {
        "colab": {
          "base_uri": "https://localhost:8080/"
        },
        "id": "E82zUmWd-pyt",
        "outputId": "0677f214-fedb-4761-e377-2abf5f96feaa"
      },
      "execution_count": null,
      "outputs": [
        {
          "output_type": "stream",
          "name": "stdout",
          "text": [
            "Best Accuracies with ccp_alpha 0.002\n",
            "Accuracy of cart decision tree classifier \n",
            "     CCPS  Train Accuracy  Test Accuracy\n",
            "0   0.002        0.896515       0.896343\n",
            "1   0.004        0.888647       0.891035\n",
            "2   0.006        0.888647       0.891035\n",
            "3   0.008        0.888647       0.891035\n",
            "4   0.010        0.888647       0.891035\n",
            "5   0.012        0.888647       0.891035\n",
            "6   0.014        0.888647       0.891035\n",
            "7   0.016        0.888647       0.891035\n",
            "8   0.018        0.882106       0.885137\n",
            "9   0.020        0.882106       0.885137\n",
            "10  0.022        0.882106       0.885137\n"
          ]
        }
      ]
    },
    {
      "cell_type": "code",
      "source": [
        "# Initialize a decision tree classifier\n",
        "model = DecisionTreeClassifier()\n",
        "\n",
        "# Determine the complexity path of the decision tree using cost complexity pruning\n",
        "cost = model.cost_complexity_pruning_path(x_train, y_train)\n",
        "alpha = cost.ccp_alphas\n",
        "\n",
        "# Initialize empty lists to store training and test accuracies for different ccp_alpha values\n",
        "train_cart_model_acc = []\n",
        "test_cart_model_acc = []\n",
        "\n",
        "# Initialize variables to store the maximum test accuracy and the index of the corresponding alpha value\n",
        "max_cart_model_acc = 0\n",
        "index_cart_model_acc = 0\n",
        "\n",
        "# Iterate over different ccp_alpha values and train a decision tree classifier for each\n",
        "for i in range(len(alpha)):\n",
        "  # Initialize a decision tree classifier with the current alpha value\n",
        "  model = DecisionTreeClassifier(ccp_alpha=alpha[i])\n",
        "  # Train the decision tree classifier on the training set\n",
        "  model = model.fit(x_train, y_train)\n",
        "  # Make predictions on the training set and calculate the training accuracy\n",
        "  y_pred = model.predict(x_train)\n",
        "  temp = accuracy_score(y_train, y_pred)\n",
        "  train_cart_model_acc.append(temp)\n",
        "  \n",
        "  # Make predictions on the test set and calculate the test accuracy\n",
        "  y_pred = model.predict(x_test)\n",
        "  temp = accuracy_score(y_test, y_pred)\n",
        "  test_cart_model_acc.append(temp)\n",
        "  \n",
        "  # Check if the current test accuracy is higher than the maximum test accuracy seen so far\n",
        "  # If so, update the maximum test accuracy and the index of the corresponding alpha value\n",
        "  if temp > max_cart_model_acc:\n",
        "    max_cart_model_acc = temp\n",
        "    index_cart_model_acc = i\n",
        "\n",
        "# Print the optimal value of ccp_alpha and the maximum test accuracy achieved\n",
        "print(\"Best Accuracies with ccp_alpha \" + str(alpha[index_cart_model_acc]))\n",
        "print(\"Accuracy of cart decision tree classifier with ccp\")\n",
        "\n",
        "# Create a dictionary to store alpha, training accuracy, and test accuracy values\n",
        "dic = {'Alphas': alpha, 'Train Accuracy': train_cart_model_acc, 'Test Accuracy': test_cart_model_acc}\n",
        "# Convert the dictionary to a pandas dataframe and print it\n",
        "df = pd.DataFrame(dic)\n",
        "print(df)\n"
      ],
      "metadata": {
        "colab": {
          "base_uri": "https://localhost:8080/"
        },
        "id": "hdBH-RfmMmf5",
        "outputId": "e09cdc57-25a5-420b-8838-f84da6cb0453"
      },
      "execution_count": null,
      "outputs": [
        {
          "output_type": "stream",
          "name": "stdout",
          "text": [
            "Best Accuracies with ccp_alpha 0.0002823831922978831\n",
            "Accuracy of cart decision tree classifier with ccp\n",
            "        Alphas  Train Accuracy  Test Accuracy\n",
            "0     0.000000        1.000000       0.875700\n",
            "1     0.000016        1.000000       0.874742\n",
            "2     0.000016        0.999968       0.872825\n",
            "3     0.000016        0.999874       0.873636\n",
            "4     0.000020        0.999716       0.874521\n",
            "...        ...             ...            ...\n",
            "1101  0.002324        0.893544       0.893468\n",
            "1102  0.002659        0.893544       0.893468\n",
            "1103  0.003306        0.888647       0.891035\n",
            "1104  0.016847        0.888647       0.891035\n",
            "1105  0.026096        0.882106       0.885137\n",
            "\n",
            "[1106 rows x 3 columns]\n"
          ]
        }
      ]
    }
  ]
}